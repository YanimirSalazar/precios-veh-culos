{
 "cells": [
  {
   "cell_type": "markdown",
   "metadata": {},
   "source": [
    "# Contenido <a id='back'></a>\n",
    "\n",
    "* [Introducción](#intro)\n",
    "* [Etapa 1. Exploración de los datos](#exploracion_datos)\n",
    "    * [Conclusiones y siguientes pasos](#conclusiones) \n",
    "* [Etapa 2. Trabajar con valores ausentes](#valores_ausentes)\n",
    "* [Etapa 3. Transformación de datos](#transformacion_datos)\n",
    "* [Etapa 4. Enriquecer datos](#enriquecer)\n",
    "* [Etapa 5. Comprobar datos limpios](#comprobar)\n",
    "* [Etapa 6. Estudiar parámetros principales](#estudiar)\n",
    "* [Etapa 7. Estudiar y tratar valores atípicos](#atipicos)\n",
    "* [Etapa 8. Estudiar parámetros principales sin valores atípicos](#sin_atipicos)\n",
    "* [Etapa 9. Periodo de colocación de los anuncios](#anuncios) \n",
    "* [Etapa 10. Precio promedio por cada tipo de vehículo](#precio)\n",
    "* [Etapa 11. Factores de precio](#factores)\n",
    "* [Etapa 12. Conclusión general](#general)\n"
   ]
  },
  {
   "cell_type": "markdown",
   "metadata": {},
   "source": [
    "# ¿Qué vende un coche? <a id='intro'></a>\n",
    "Eres un analista en Crankshaft List. Cientos de anuncios gratuitos de vehículos se publican en tu sitio web cada día. Necesitas estudiar los datos recopilados durante los últimos años y determinar qué factores influyen en el precio de un vehículo."
   ]
  },
  {
   "cell_type": "markdown",
   "metadata": {},
   "source": [
    "Este proyecto tiene como propósito determinar que factores influyen en el precio de los vehículos, la información se obtiene de los cientos de anuncios de vehículos que se publican cada día en el sitio web. Se va a tratar los valores ausentes, corregir los tipo de datos, hacer comprobaciones con los datos limpios, estudiar parámetros principales y tratar valores atípicos para luego determinar las conclusiones del estudio. \n"
   ]
  },
  {
   "cell_type": "markdown",
   "metadata": {},
   "source": [
    "## Inicialización"
   ]
  },
  {
   "cell_type": "code",
   "execution_count": 1,
   "metadata": {},
   "outputs": [],
   "source": [
    "# Importación de librerías\n",
    "\n",
    "import pandas as pd\n",
    "import datetime as dt\n",
    "import matplotlib.pyplot as plt\n",
    "import seaborn as sns"
   ]
  },
  {
   "cell_type": "markdown",
   "metadata": {},
   "source": [
    "### Cargar datos"
   ]
  },
  {
   "cell_type": "code",
   "execution_count": 2,
   "metadata": {},
   "outputs": [],
   "source": [
    "# Carga el archivo de datos en un DataFrame\n",
    "\n",
    "datos = pd.read_csv('/datasets/vehicles_us.csv')\n"
   ]
  },
  {
   "cell_type": "markdown",
   "metadata": {},
   "source": [
    "### Explorar datos iniciales <a id='exploracion_datos'></a>"
   ]
  },
  {
   "cell_type": "markdown",
   "metadata": {},
   "source": [
    "El dataset contiene los siguientes campos:\n",
    "- `price` — precio del vehículo\n",
    "- `model_year` — año del modelo\n",
    "- `model`— modelo del vehículo\n",
    "- `condition` — estado en el que se encuentra el vehículo\n",
    "- `cylinders` — cantidad de cilindros del vehículo\n",
    "- `fuel` — gasolina, diesel, etc.\n",
    "- `odometer` — el millaje del vehículo cuando el anuncio fue publicado\n",
    "- `transmission` — tipo de transmisión\n",
    "- `paint_color` — color del vehículo\n",
    "- `is_4wd` — si el vehículo tiene tracción a las 4 ruedas (tipo Booleano)\n",
    "- `date_posted` — la fecha en la que el anuncio fue publicado\n",
    "- `days_listed` — desde la publicación hasta que se elimina\n"
   ]
  },
  {
   "cell_type": "code",
   "execution_count": 3,
   "metadata": {},
   "outputs": [
    {
     "name": "stdout",
     "output_type": "stream",
     "text": [
      "<class 'pandas.core.frame.DataFrame'>\n",
      "RangeIndex: 51525 entries, 0 to 51524\n",
      "Data columns (total 13 columns):\n",
      " #   Column        Non-Null Count  Dtype  \n",
      "---  ------        --------------  -----  \n",
      " 0   price         51525 non-null  int64  \n",
      " 1   model_year    47906 non-null  float64\n",
      " 2   model         51525 non-null  object \n",
      " 3   condition     51525 non-null  object \n",
      " 4   cylinders     46265 non-null  float64\n",
      " 5   fuel          51525 non-null  object \n",
      " 6   odometer      43633 non-null  float64\n",
      " 7   transmission  51525 non-null  object \n",
      " 8   type          51525 non-null  object \n",
      " 9   paint_color   42258 non-null  object \n",
      " 10  is_4wd        25572 non-null  float64\n",
      " 11  date_posted   51525 non-null  object \n",
      " 12  days_listed   51525 non-null  int64  \n",
      "dtypes: float64(4), int64(2), object(7)\n",
      "memory usage: 5.1+ MB\n"
     ]
    }
   ],
   "source": [
    "# imprime la información general/resumida sobre el DataFrame\n",
    "\n",
    "datos.info()"
   ]
  },
  {
   "cell_type": "code",
   "execution_count": 4,
   "metadata": {},
   "outputs": [
    {
     "data": {
      "text/html": [
       "<div>\n",
       "<style scoped>\n",
       "    .dataframe tbody tr th:only-of-type {\n",
       "        vertical-align: middle;\n",
       "    }\n",
       "\n",
       "    .dataframe tbody tr th {\n",
       "        vertical-align: top;\n",
       "    }\n",
       "\n",
       "    .dataframe thead th {\n",
       "        text-align: right;\n",
       "    }\n",
       "</style>\n",
       "<table border=\"1\" class=\"dataframe\">\n",
       "  <thead>\n",
       "    <tr style=\"text-align: right;\">\n",
       "      <th></th>\n",
       "      <th>price</th>\n",
       "      <th>model_year</th>\n",
       "      <th>model</th>\n",
       "      <th>condition</th>\n",
       "      <th>cylinders</th>\n",
       "      <th>fuel</th>\n",
       "      <th>odometer</th>\n",
       "      <th>transmission</th>\n",
       "      <th>type</th>\n",
       "      <th>paint_color</th>\n",
       "      <th>is_4wd</th>\n",
       "      <th>date_posted</th>\n",
       "      <th>days_listed</th>\n",
       "    </tr>\n",
       "  </thead>\n",
       "  <tbody>\n",
       "    <tr>\n",
       "      <th>0</th>\n",
       "      <td>9400</td>\n",
       "      <td>2011.0</td>\n",
       "      <td>bmw x5</td>\n",
       "      <td>good</td>\n",
       "      <td>6.0</td>\n",
       "      <td>gas</td>\n",
       "      <td>145000.0</td>\n",
       "      <td>automatic</td>\n",
       "      <td>SUV</td>\n",
       "      <td>NaN</td>\n",
       "      <td>1.0</td>\n",
       "      <td>2018-06-23</td>\n",
       "      <td>19</td>\n",
       "    </tr>\n",
       "    <tr>\n",
       "      <th>1</th>\n",
       "      <td>25500</td>\n",
       "      <td>NaN</td>\n",
       "      <td>ford f-150</td>\n",
       "      <td>good</td>\n",
       "      <td>6.0</td>\n",
       "      <td>gas</td>\n",
       "      <td>88705.0</td>\n",
       "      <td>automatic</td>\n",
       "      <td>pickup</td>\n",
       "      <td>white</td>\n",
       "      <td>1.0</td>\n",
       "      <td>2018-10-19</td>\n",
       "      <td>50</td>\n",
       "    </tr>\n",
       "    <tr>\n",
       "      <th>2</th>\n",
       "      <td>5500</td>\n",
       "      <td>2013.0</td>\n",
       "      <td>hyundai sonata</td>\n",
       "      <td>like new</td>\n",
       "      <td>4.0</td>\n",
       "      <td>gas</td>\n",
       "      <td>110000.0</td>\n",
       "      <td>automatic</td>\n",
       "      <td>sedan</td>\n",
       "      <td>red</td>\n",
       "      <td>NaN</td>\n",
       "      <td>2019-02-07</td>\n",
       "      <td>79</td>\n",
       "    </tr>\n",
       "    <tr>\n",
       "      <th>3</th>\n",
       "      <td>1500</td>\n",
       "      <td>2003.0</td>\n",
       "      <td>ford f-150</td>\n",
       "      <td>fair</td>\n",
       "      <td>8.0</td>\n",
       "      <td>gas</td>\n",
       "      <td>NaN</td>\n",
       "      <td>automatic</td>\n",
       "      <td>pickup</td>\n",
       "      <td>NaN</td>\n",
       "      <td>NaN</td>\n",
       "      <td>2019-03-22</td>\n",
       "      <td>9</td>\n",
       "    </tr>\n",
       "    <tr>\n",
       "      <th>4</th>\n",
       "      <td>14900</td>\n",
       "      <td>2017.0</td>\n",
       "      <td>chrysler 200</td>\n",
       "      <td>excellent</td>\n",
       "      <td>4.0</td>\n",
       "      <td>gas</td>\n",
       "      <td>80903.0</td>\n",
       "      <td>automatic</td>\n",
       "      <td>sedan</td>\n",
       "      <td>black</td>\n",
       "      <td>NaN</td>\n",
       "      <td>2019-04-02</td>\n",
       "      <td>28</td>\n",
       "    </tr>\n",
       "    <tr>\n",
       "      <th>5</th>\n",
       "      <td>14990</td>\n",
       "      <td>2014.0</td>\n",
       "      <td>chrysler 300</td>\n",
       "      <td>excellent</td>\n",
       "      <td>6.0</td>\n",
       "      <td>gas</td>\n",
       "      <td>57954.0</td>\n",
       "      <td>automatic</td>\n",
       "      <td>sedan</td>\n",
       "      <td>black</td>\n",
       "      <td>1.0</td>\n",
       "      <td>2018-06-20</td>\n",
       "      <td>15</td>\n",
       "    </tr>\n",
       "    <tr>\n",
       "      <th>6</th>\n",
       "      <td>12990</td>\n",
       "      <td>2015.0</td>\n",
       "      <td>toyota camry</td>\n",
       "      <td>excellent</td>\n",
       "      <td>4.0</td>\n",
       "      <td>gas</td>\n",
       "      <td>79212.0</td>\n",
       "      <td>automatic</td>\n",
       "      <td>sedan</td>\n",
       "      <td>white</td>\n",
       "      <td>NaN</td>\n",
       "      <td>2018-12-27</td>\n",
       "      <td>73</td>\n",
       "    </tr>\n",
       "    <tr>\n",
       "      <th>7</th>\n",
       "      <td>15990</td>\n",
       "      <td>2013.0</td>\n",
       "      <td>honda pilot</td>\n",
       "      <td>excellent</td>\n",
       "      <td>6.0</td>\n",
       "      <td>gas</td>\n",
       "      <td>109473.0</td>\n",
       "      <td>automatic</td>\n",
       "      <td>SUV</td>\n",
       "      <td>black</td>\n",
       "      <td>1.0</td>\n",
       "      <td>2019-01-07</td>\n",
       "      <td>68</td>\n",
       "    </tr>\n",
       "    <tr>\n",
       "      <th>8</th>\n",
       "      <td>11500</td>\n",
       "      <td>2012.0</td>\n",
       "      <td>kia sorento</td>\n",
       "      <td>excellent</td>\n",
       "      <td>4.0</td>\n",
       "      <td>gas</td>\n",
       "      <td>104174.0</td>\n",
       "      <td>automatic</td>\n",
       "      <td>SUV</td>\n",
       "      <td>NaN</td>\n",
       "      <td>1.0</td>\n",
       "      <td>2018-07-16</td>\n",
       "      <td>19</td>\n",
       "    </tr>\n",
       "    <tr>\n",
       "      <th>9</th>\n",
       "      <td>9200</td>\n",
       "      <td>2008.0</td>\n",
       "      <td>honda pilot</td>\n",
       "      <td>excellent</td>\n",
       "      <td>NaN</td>\n",
       "      <td>gas</td>\n",
       "      <td>147191.0</td>\n",
       "      <td>automatic</td>\n",
       "      <td>SUV</td>\n",
       "      <td>blue</td>\n",
       "      <td>1.0</td>\n",
       "      <td>2019-02-15</td>\n",
       "      <td>17</td>\n",
       "    </tr>\n",
       "  </tbody>\n",
       "</table>\n",
       "</div>"
      ],
      "text/plain": [
       "   price  model_year           model  condition  cylinders fuel  odometer  \\\n",
       "0   9400      2011.0          bmw x5       good        6.0  gas  145000.0   \n",
       "1  25500         NaN      ford f-150       good        6.0  gas   88705.0   \n",
       "2   5500      2013.0  hyundai sonata   like new        4.0  gas  110000.0   \n",
       "3   1500      2003.0      ford f-150       fair        8.0  gas       NaN   \n",
       "4  14900      2017.0    chrysler 200  excellent        4.0  gas   80903.0   \n",
       "5  14990      2014.0    chrysler 300  excellent        6.0  gas   57954.0   \n",
       "6  12990      2015.0    toyota camry  excellent        4.0  gas   79212.0   \n",
       "7  15990      2013.0     honda pilot  excellent        6.0  gas  109473.0   \n",
       "8  11500      2012.0     kia sorento  excellent        4.0  gas  104174.0   \n",
       "9   9200      2008.0     honda pilot  excellent        NaN  gas  147191.0   \n",
       "\n",
       "  transmission    type paint_color  is_4wd date_posted  days_listed  \n",
       "0    automatic     SUV         NaN     1.0  2018-06-23           19  \n",
       "1    automatic  pickup       white     1.0  2018-10-19           50  \n",
       "2    automatic   sedan         red     NaN  2019-02-07           79  \n",
       "3    automatic  pickup         NaN     NaN  2019-03-22            9  \n",
       "4    automatic   sedan       black     NaN  2019-04-02           28  \n",
       "5    automatic   sedan       black     1.0  2018-06-20           15  \n",
       "6    automatic   sedan       white     NaN  2018-12-27           73  \n",
       "7    automatic     SUV       black     1.0  2019-01-07           68  \n",
       "8    automatic     SUV         NaN     1.0  2018-07-16           19  \n",
       "9    automatic     SUV        blue     1.0  2019-02-15           17  "
      ]
     },
     "execution_count": 4,
     "metadata": {},
     "output_type": "execute_result"
    }
   ],
   "source": [
    "# imprimir una muestra de datos\n",
    "\n",
    "datos.head(10)"
   ]
  },
  {
   "cell_type": "markdown",
   "metadata": {},
   "source": [
    "Tenemos un conjunto de datos conformado por 13 columnas, en algunas se necesita ajustar su tipo de dato, tiene 51525 filas de las cuales algunas tienen valores ausentes. "
   ]
  },
  {
   "cell_type": "markdown",
   "metadata": {},
   "source": [
    "Tenemos columnas que necesitan cambiar sus tipos de datos estas son: model_year es de tipo float y debe ser tipo fecha, odometer debe ser entero, is_4wd debe ser de tipo Booleano."
   ]
  },
  {
   "cell_type": "markdown",
   "metadata": {},
   "source": [
    "Tenemos columnas con valores ausentes estas son: model_year, cylinders, odometer, paint_color, pero is_4wd es la columna que tiene la mayor cantidad. "
   ]
  },
  {
   "cell_type": "markdown",
   "metadata": {},
   "source": [
    "### Conclusiones y siguientes pasos <a id='conclusiones'></a>\n"
   ]
  },
  {
   "cell_type": "markdown",
   "metadata": {},
   "source": [
    "En vista que los datos presentan algunos problemas que deben ser tratados, se procede a estudiar los valores ausentes para determinar que hacer con ellos, a primera vista se puede determinar que los valores ausentes en la columna is_4wd tienen un patrón (MNAR), solo tiene 1 y NaN por lo que se puede intuir que el NaN corresponde a 0 y estos vehículos no cuentan con tracción en las 4 ruedas, se van a reemplazar los valores ausentes por 0 ya que siginifica ausencia de dato y así poder cambiar el tipo de dato a entero. También se va a cambiar el tipo de datos a las columnas que lo necesitan para poder trabajar adecuadamente con estos datos. "
   ]
  },
  {
   "cell_type": "markdown",
   "metadata": {},
   "source": [
    "## Tratar los valores ausentes (si hay) <a id='valores_ausentes'></a>"
   ]
  },
  {
   "cell_type": "code",
   "execution_count": 5,
   "metadata": {},
   "outputs": [
    {
     "data": {
      "text/plain": [
       "price               0\n",
       "model_year       3619\n",
       "model               0\n",
       "condition           0\n",
       "cylinders        5260\n",
       "fuel                0\n",
       "odometer         7892\n",
       "transmission        0\n",
       "type                0\n",
       "paint_color      9267\n",
       "is_4wd          25953\n",
       "date_posted         0\n",
       "days_listed         0\n",
       "dtype: int64"
      ]
     },
     "execution_count": 5,
     "metadata": {},
     "output_type": "execute_result"
    }
   ],
   "source": [
    "# estudiar valores ausentes\n",
    "datos.isnull().sum()"
   ]
  },
  {
   "cell_type": "code",
   "execution_count": 6,
   "metadata": {},
   "outputs": [],
   "source": [
    "#Reemplazar valores ausentes en 'is_4wd'\n",
    "datos.fillna({'is_4wd':0}, inplace=True)\n",
    "\n",
    "#Reemplazar valores ausentes en 'paint_color'\n",
    "datos.fillna({'paint_color': 'No disponible'}, inplace=True)\n"
   ]
  },
  {
   "cell_type": "markdown",
   "metadata": {},
   "source": [
    "Al no poder calcular medias y medianas en las variables 'paint_color' se decide reemplazarlas por 'No disponible, de esta manera no se afectan los valores del resto de los datos. "
   ]
  },
  {
   "cell_type": "code",
   "execution_count": 7,
   "metadata": {
    "scrolled": true
   },
   "outputs": [
    {
     "data": {
      "text/html": [
       "<div>\n",
       "<style scoped>\n",
       "    .dataframe tbody tr th:only-of-type {\n",
       "        vertical-align: middle;\n",
       "    }\n",
       "\n",
       "    .dataframe tbody tr th {\n",
       "        vertical-align: top;\n",
       "    }\n",
       "\n",
       "    .dataframe thead th {\n",
       "        text-align: right;\n",
       "    }\n",
       "</style>\n",
       "<table border=\"1\" class=\"dataframe\">\n",
       "  <thead>\n",
       "    <tr style=\"text-align: right;\">\n",
       "      <th></th>\n",
       "      <th>price</th>\n",
       "      <th>model_year</th>\n",
       "      <th>model</th>\n",
       "      <th>condition</th>\n",
       "      <th>cylinders</th>\n",
       "      <th>fuel</th>\n",
       "      <th>odometer</th>\n",
       "      <th>transmission</th>\n",
       "      <th>type</th>\n",
       "      <th>paint_color</th>\n",
       "      <th>is_4wd</th>\n",
       "      <th>date_posted</th>\n",
       "      <th>days_listed</th>\n",
       "    </tr>\n",
       "  </thead>\n",
       "  <tbody>\n",
       "    <tr>\n",
       "      <th>0</th>\n",
       "      <td>9400</td>\n",
       "      <td>2011.0</td>\n",
       "      <td>bmw x5</td>\n",
       "      <td>good</td>\n",
       "      <td>6.0</td>\n",
       "      <td>gas</td>\n",
       "      <td>145000.0</td>\n",
       "      <td>automatic</td>\n",
       "      <td>SUV</td>\n",
       "      <td>No disponible</td>\n",
       "      <td>1.0</td>\n",
       "      <td>2018-06-23</td>\n",
       "      <td>19</td>\n",
       "    </tr>\n",
       "    <tr>\n",
       "      <th>2</th>\n",
       "      <td>5500</td>\n",
       "      <td>2013.0</td>\n",
       "      <td>hyundai sonata</td>\n",
       "      <td>like new</td>\n",
       "      <td>4.0</td>\n",
       "      <td>gas</td>\n",
       "      <td>110000.0</td>\n",
       "      <td>automatic</td>\n",
       "      <td>sedan</td>\n",
       "      <td>red</td>\n",
       "      <td>0.0</td>\n",
       "      <td>2019-02-07</td>\n",
       "      <td>79</td>\n",
       "    </tr>\n",
       "    <tr>\n",
       "      <th>4</th>\n",
       "      <td>14900</td>\n",
       "      <td>2017.0</td>\n",
       "      <td>chrysler 200</td>\n",
       "      <td>excellent</td>\n",
       "      <td>4.0</td>\n",
       "      <td>gas</td>\n",
       "      <td>80903.0</td>\n",
       "      <td>automatic</td>\n",
       "      <td>sedan</td>\n",
       "      <td>black</td>\n",
       "      <td>0.0</td>\n",
       "      <td>2019-04-02</td>\n",
       "      <td>28</td>\n",
       "    </tr>\n",
       "    <tr>\n",
       "      <th>5</th>\n",
       "      <td>14990</td>\n",
       "      <td>2014.0</td>\n",
       "      <td>chrysler 300</td>\n",
       "      <td>excellent</td>\n",
       "      <td>6.0</td>\n",
       "      <td>gas</td>\n",
       "      <td>57954.0</td>\n",
       "      <td>automatic</td>\n",
       "      <td>sedan</td>\n",
       "      <td>black</td>\n",
       "      <td>1.0</td>\n",
       "      <td>2018-06-20</td>\n",
       "      <td>15</td>\n",
       "    </tr>\n",
       "    <tr>\n",
       "      <th>6</th>\n",
       "      <td>12990</td>\n",
       "      <td>2015.0</td>\n",
       "      <td>toyota camry</td>\n",
       "      <td>excellent</td>\n",
       "      <td>4.0</td>\n",
       "      <td>gas</td>\n",
       "      <td>79212.0</td>\n",
       "      <td>automatic</td>\n",
       "      <td>sedan</td>\n",
       "      <td>white</td>\n",
       "      <td>0.0</td>\n",
       "      <td>2018-12-27</td>\n",
       "      <td>73</td>\n",
       "    </tr>\n",
       "  </tbody>\n",
       "</table>\n",
       "</div>"
      ],
      "text/plain": [
       "   price  model_year           model  condition  cylinders fuel  odometer  \\\n",
       "0   9400      2011.0          bmw x5       good        6.0  gas  145000.0   \n",
       "2   5500      2013.0  hyundai sonata   like new        4.0  gas  110000.0   \n",
       "4  14900      2017.0    chrysler 200  excellent        4.0  gas   80903.0   \n",
       "5  14990      2014.0    chrysler 300  excellent        6.0  gas   57954.0   \n",
       "6  12990      2015.0    toyota camry  excellent        4.0  gas   79212.0   \n",
       "\n",
       "  transmission   type    paint_color  is_4wd date_posted  days_listed  \n",
       "0    automatic    SUV  No disponible     1.0  2018-06-23           19  \n",
       "2    automatic  sedan            red     0.0  2019-02-07           79  \n",
       "4    automatic  sedan          black     0.0  2019-04-02           28  \n",
       "5    automatic  sedan          black     1.0  2018-06-20           15  \n",
       "6    automatic  sedan          white     0.0  2018-12-27           73  "
      ]
     },
     "execution_count": 7,
     "metadata": {},
     "output_type": "execute_result"
    }
   ],
   "source": [
    "# Creando tabla sin ausentes para reemplazar valores ausentes de variables cuantitativas\n",
    "\n",
    "datos_sin_ausentes= datos.dropna()\n",
    "datos_sin_ausentes.head()\n"
   ]
  },
  {
   "cell_type": "code",
   "execution_count": 8,
   "metadata": {},
   "outputs": [
    {
     "name": "stdout",
     "output_type": "stream",
     "text": [
      "type\n",
      "SUV            5.908231\n",
      "bus            9.052632\n",
      "convertible    7.003049\n",
      "coupe          6.479067\n",
      "hatchback      4.177989\n",
      "mini-van       5.962424\n",
      "offroad        6.137500\n",
      "other          5.687151\n",
      "pickup         7.190089\n",
      "sedan          4.575868\n",
      "truck          7.500456\n",
      "van            6.440758\n",
      "wagon          4.890424\n",
      "Name: cylinders, dtype: float64\n",
      "\n",
      "type\n",
      "SUV             6.0\n",
      "bus            10.0\n",
      "convertible     8.0\n",
      "coupe           6.0\n",
      "hatchback       4.0\n",
      "mini-van        6.0\n",
      "offroad         6.0\n",
      "other           6.0\n",
      "pickup          8.0\n",
      "sedan           4.0\n",
      "truck           8.0\n",
      "van             6.0\n",
      "wagon           4.0\n",
      "Name: cylinders, dtype: float64\n",
      "\n"
     ]
    }
   ],
   "source": [
    "#Examinando los valores medios y medianas en 'cylinders' en función de otros factores\n",
    "\n",
    "print(datos_sin_ausentes.groupby('type')['cylinders'].mean())\n",
    "print()\n",
    "print(datos_sin_ausentes.groupby('type')['cylinders'].median())\n",
    "print()"
   ]
  },
  {
   "cell_type": "markdown",
   "metadata": {},
   "source": [
    "Se calcularon las medias y las medianas de la cantidad de cilindros por tipos de vehículos y se concluye utilizar la mediana  ya que como existen diferencia entre ambos valores, la mediana es un valor mas confiable, ya que no se ve influenciada por los valores mas altos y mas bajos del conjunto de datos. "
   ]
  },
  {
   "cell_type": "code",
   "execution_count": 9,
   "metadata": {},
   "outputs": [],
   "source": [
    "# Se utilizará la mediana para reemplazar los valores ausentes\n",
    "datos['cylinders']= datos.groupby('type')['cylinders'].transform(lambda x: x.fillna(x.median()))"
   ]
  },
  {
   "cell_type": "code",
   "execution_count": 10,
   "metadata": {},
   "outputs": [
    {
     "name": "stdout",
     "output_type": "stream",
     "text": [
      "model\n",
      "acura tl             2007.369048\n",
      "bmw x5               2008.954315\n",
      "buick enclave        2012.237374\n",
      "cadillac escalade    2009.099099\n",
      "chevrolet camaro     2008.136508\n",
      "                        ...     \n",
      "toyota sienna        2008.697872\n",
      "toyota tacoma        2009.281787\n",
      "toyota tundra        2009.540603\n",
      "volkswagen jetta     2010.808108\n",
      "volkswagen passat    2011.210317\n",
      "Name: model_year, Length: 99, dtype: float64\n",
      "\n",
      "model\n",
      "acura tl             2007.0\n",
      "bmw x5               2010.0\n",
      "buick enclave        2012.0\n",
      "cadillac escalade    2009.0\n",
      "chevrolet camaro     2013.0\n",
      "                      ...  \n",
      "toyota sienna        2008.0\n",
      "toyota tacoma        2010.0\n",
      "toyota tundra        2010.0\n",
      "volkswagen jetta     2012.0\n",
      "volkswagen passat    2013.0\n",
      "Name: model_year, Length: 99, dtype: float64\n",
      "\n"
     ]
    }
   ],
   "source": [
    "# Examinando los valores medios y medianas en 'model_year' en función de otros factores\n",
    "\n",
    "print(datos_sin_ausentes.groupby('model')['model_year'].mean())\n",
    "print()\n",
    "print(datos_sin_ausentes.groupby('model')['model_year'].median())\n",
    "print()"
   ]
  },
  {
   "cell_type": "markdown",
   "metadata": {},
   "source": [
    "Se calcularon las medias y las medianas de model_year por modelos de vehículos y se concluye utilizar la mediana ya que como existen diferencia entre ambos valores, la mediana es un valor mas confiable, ya que no se ve influenciada por los valores mas altos y mas bajos del conjunto de datos."
   ]
  },
  {
   "cell_type": "code",
   "execution_count": 11,
   "metadata": {},
   "outputs": [],
   "source": [
    "# Se utilizará la mediana para reemplazar los valores ausentes\n",
    "\n",
    "datos['model_year']= datos.groupby('model')['model_year'].transform(lambda x: x.fillna(x.median()))"
   ]
  },
  {
   "cell_type": "code",
   "execution_count": 12,
   "metadata": {},
   "outputs": [
    {
     "name": "stdout",
     "output_type": "stream",
     "text": [
      "model_year\n",
      "1908.0    169328.000000\n",
      "1936.0     30000.000000\n",
      "1948.0      4000.000000\n",
      "1955.0     47180.000000\n",
      "1958.0     32991.500000\n",
      "              ...      \n",
      "2015.0     82296.299880\n",
      "2016.0     61566.251881\n",
      "2017.0     47461.165661\n",
      "2018.0     25063.455294\n",
      "2019.0     17118.551839\n",
      "Name: odometer, Length: 65, dtype: float64\n",
      "\n",
      "model_year\n",
      "1908.0    169328.0\n",
      "1936.0     30000.0\n",
      "1948.0      4000.0\n",
      "1955.0     47180.0\n",
      "1958.0     32991.5\n",
      "            ...   \n",
      "2015.0     78000.0\n",
      "2016.0     54000.0\n",
      "2017.0     41000.0\n",
      "2018.0     20627.0\n",
      "2019.0     14058.0\n",
      "Name: odometer, Length: 65, dtype: float64\n",
      "\n"
     ]
    }
   ],
   "source": [
    "#Examinando los valores medios y medianas en 'odometer' en función de otros factores\n",
    "\n",
    "print(datos_sin_ausentes.groupby('model_year')['odometer'].mean())\n",
    "print()\n",
    "print(datos_sin_ausentes.groupby('model_year')['odometer'].median())\n",
    "print()"
   ]
  },
  {
   "cell_type": "markdown",
   "metadata": {},
   "source": [
    "Se calcularon las medias y las medianas de la variable odometer por el año del modelo y se concluye utilizar la media ya que los valores son iguales.  "
   ]
  },
  {
   "cell_type": "code",
   "execution_count": 13,
   "metadata": {},
   "outputs": [],
   "source": [
    "# Se utilizará la media para reemplazar los valores ausentes\n",
    "\n",
    "datos['odometer']= datos.groupby('model_year')['odometer'].transform(lambda x: x.fillna(x.mean()))"
   ]
  },
  {
   "cell_type": "code",
   "execution_count": 14,
   "metadata": {},
   "outputs": [
    {
     "name": "stdout",
     "output_type": "stream",
     "text": [
      "<class 'pandas.core.frame.DataFrame'>\n",
      "RangeIndex: 51525 entries, 0 to 51524\n",
      "Data columns (total 13 columns):\n",
      " #   Column        Non-Null Count  Dtype  \n",
      "---  ------        --------------  -----  \n",
      " 0   price         51525 non-null  int64  \n",
      " 1   model_year    51525 non-null  float64\n",
      " 2   model         51525 non-null  object \n",
      " 3   condition     51525 non-null  object \n",
      " 4   cylinders     51525 non-null  float64\n",
      " 5   fuel          51525 non-null  object \n",
      " 6   odometer      51524 non-null  float64\n",
      " 7   transmission  51525 non-null  object \n",
      " 8   type          51525 non-null  object \n",
      " 9   paint_color   51525 non-null  object \n",
      " 10  is_4wd        51525 non-null  float64\n",
      " 11  date_posted   51525 non-null  object \n",
      " 12  days_listed   51525 non-null  int64  \n",
      "dtypes: float64(4), int64(2), object(7)\n",
      "memory usage: 5.1+ MB\n"
     ]
    }
   ],
   "source": [
    "datos.info()"
   ]
  },
  {
   "cell_type": "markdown",
   "metadata": {},
   "source": [
    "Se observa que aún queda un valor nulo en la variable odometer, se procede a eliminar esta fila ya que no causará ningun impacto en el analisis del conjunto total de datos. "
   ]
  },
  {
   "cell_type": "code",
   "execution_count": 15,
   "metadata": {},
   "outputs": [],
   "source": [
    "datos= datos.dropna()"
   ]
  },
  {
   "cell_type": "code",
   "execution_count": 16,
   "metadata": {},
   "outputs": [
    {
     "data": {
      "text/plain": [
       "price           0\n",
       "model_year      0\n",
       "model           0\n",
       "condition       0\n",
       "cylinders       0\n",
       "fuel            0\n",
       "odometer        0\n",
       "transmission    0\n",
       "type            0\n",
       "paint_color     0\n",
       "is_4wd          0\n",
       "date_posted     0\n",
       "days_listed     0\n",
       "dtype: int64"
      ]
     },
     "execution_count": 16,
     "metadata": {},
     "output_type": "execute_result"
    }
   ],
   "source": [
    "# actualizar valores ausentes\n",
    "datos.isnull().sum()"
   ]
  },
  {
   "cell_type": "code",
   "execution_count": 17,
   "metadata": {},
   "outputs": [
    {
     "data": {
      "text/html": [
       "<div>\n",
       "<style scoped>\n",
       "    .dataframe tbody tr th:only-of-type {\n",
       "        vertical-align: middle;\n",
       "    }\n",
       "\n",
       "    .dataframe tbody tr th {\n",
       "        vertical-align: top;\n",
       "    }\n",
       "\n",
       "    .dataframe thead th {\n",
       "        text-align: right;\n",
       "    }\n",
       "</style>\n",
       "<table border=\"1\" class=\"dataframe\">\n",
       "  <thead>\n",
       "    <tr style=\"text-align: right;\">\n",
       "      <th></th>\n",
       "      <th>price</th>\n",
       "      <th>model_year</th>\n",
       "      <th>model</th>\n",
       "      <th>condition</th>\n",
       "      <th>cylinders</th>\n",
       "      <th>fuel</th>\n",
       "      <th>odometer</th>\n",
       "      <th>transmission</th>\n",
       "      <th>type</th>\n",
       "      <th>paint_color</th>\n",
       "      <th>is_4wd</th>\n",
       "      <th>date_posted</th>\n",
       "      <th>days_listed</th>\n",
       "    </tr>\n",
       "  </thead>\n",
       "  <tbody>\n",
       "    <tr>\n",
       "      <th>0</th>\n",
       "      <td>9400</td>\n",
       "      <td>2011.0</td>\n",
       "      <td>bmw x5</td>\n",
       "      <td>good</td>\n",
       "      <td>6.0</td>\n",
       "      <td>gas</td>\n",
       "      <td>145000.000000</td>\n",
       "      <td>automatic</td>\n",
       "      <td>SUV</td>\n",
       "      <td>No disponible</td>\n",
       "      <td>1.0</td>\n",
       "      <td>2018-06-23</td>\n",
       "      <td>19</td>\n",
       "    </tr>\n",
       "    <tr>\n",
       "      <th>1</th>\n",
       "      <td>25500</td>\n",
       "      <td>2011.0</td>\n",
       "      <td>ford f-150</td>\n",
       "      <td>good</td>\n",
       "      <td>6.0</td>\n",
       "      <td>gas</td>\n",
       "      <td>88705.000000</td>\n",
       "      <td>automatic</td>\n",
       "      <td>pickup</td>\n",
       "      <td>white</td>\n",
       "      <td>1.0</td>\n",
       "      <td>2018-10-19</td>\n",
       "      <td>50</td>\n",
       "    </tr>\n",
       "    <tr>\n",
       "      <th>2</th>\n",
       "      <td>5500</td>\n",
       "      <td>2013.0</td>\n",
       "      <td>hyundai sonata</td>\n",
       "      <td>like new</td>\n",
       "      <td>4.0</td>\n",
       "      <td>gas</td>\n",
       "      <td>110000.000000</td>\n",
       "      <td>automatic</td>\n",
       "      <td>sedan</td>\n",
       "      <td>red</td>\n",
       "      <td>0.0</td>\n",
       "      <td>2019-02-07</td>\n",
       "      <td>79</td>\n",
       "    </tr>\n",
       "    <tr>\n",
       "      <th>3</th>\n",
       "      <td>1500</td>\n",
       "      <td>2003.0</td>\n",
       "      <td>ford f-150</td>\n",
       "      <td>fair</td>\n",
       "      <td>8.0</td>\n",
       "      <td>gas</td>\n",
       "      <td>162071.751024</td>\n",
       "      <td>automatic</td>\n",
       "      <td>pickup</td>\n",
       "      <td>No disponible</td>\n",
       "      <td>0.0</td>\n",
       "      <td>2019-03-22</td>\n",
       "      <td>9</td>\n",
       "    </tr>\n",
       "    <tr>\n",
       "      <th>4</th>\n",
       "      <td>14900</td>\n",
       "      <td>2017.0</td>\n",
       "      <td>chrysler 200</td>\n",
       "      <td>excellent</td>\n",
       "      <td>4.0</td>\n",
       "      <td>gas</td>\n",
       "      <td>80903.000000</td>\n",
       "      <td>automatic</td>\n",
       "      <td>sedan</td>\n",
       "      <td>black</td>\n",
       "      <td>0.0</td>\n",
       "      <td>2019-04-02</td>\n",
       "      <td>28</td>\n",
       "    </tr>\n",
       "    <tr>\n",
       "      <th>5</th>\n",
       "      <td>14990</td>\n",
       "      <td>2014.0</td>\n",
       "      <td>chrysler 300</td>\n",
       "      <td>excellent</td>\n",
       "      <td>6.0</td>\n",
       "      <td>gas</td>\n",
       "      <td>57954.000000</td>\n",
       "      <td>automatic</td>\n",
       "      <td>sedan</td>\n",
       "      <td>black</td>\n",
       "      <td>1.0</td>\n",
       "      <td>2018-06-20</td>\n",
       "      <td>15</td>\n",
       "    </tr>\n",
       "    <tr>\n",
       "      <th>6</th>\n",
       "      <td>12990</td>\n",
       "      <td>2015.0</td>\n",
       "      <td>toyota camry</td>\n",
       "      <td>excellent</td>\n",
       "      <td>4.0</td>\n",
       "      <td>gas</td>\n",
       "      <td>79212.000000</td>\n",
       "      <td>automatic</td>\n",
       "      <td>sedan</td>\n",
       "      <td>white</td>\n",
       "      <td>0.0</td>\n",
       "      <td>2018-12-27</td>\n",
       "      <td>73</td>\n",
       "    </tr>\n",
       "    <tr>\n",
       "      <th>7</th>\n",
       "      <td>15990</td>\n",
       "      <td>2013.0</td>\n",
       "      <td>honda pilot</td>\n",
       "      <td>excellent</td>\n",
       "      <td>6.0</td>\n",
       "      <td>gas</td>\n",
       "      <td>109473.000000</td>\n",
       "      <td>automatic</td>\n",
       "      <td>SUV</td>\n",
       "      <td>black</td>\n",
       "      <td>1.0</td>\n",
       "      <td>2019-01-07</td>\n",
       "      <td>68</td>\n",
       "    </tr>\n",
       "    <tr>\n",
       "      <th>8</th>\n",
       "      <td>11500</td>\n",
       "      <td>2012.0</td>\n",
       "      <td>kia sorento</td>\n",
       "      <td>excellent</td>\n",
       "      <td>4.0</td>\n",
       "      <td>gas</td>\n",
       "      <td>104174.000000</td>\n",
       "      <td>automatic</td>\n",
       "      <td>SUV</td>\n",
       "      <td>No disponible</td>\n",
       "      <td>1.0</td>\n",
       "      <td>2018-07-16</td>\n",
       "      <td>19</td>\n",
       "    </tr>\n",
       "    <tr>\n",
       "      <th>9</th>\n",
       "      <td>9200</td>\n",
       "      <td>2008.0</td>\n",
       "      <td>honda pilot</td>\n",
       "      <td>excellent</td>\n",
       "      <td>6.0</td>\n",
       "      <td>gas</td>\n",
       "      <td>147191.000000</td>\n",
       "      <td>automatic</td>\n",
       "      <td>SUV</td>\n",
       "      <td>blue</td>\n",
       "      <td>1.0</td>\n",
       "      <td>2019-02-15</td>\n",
       "      <td>17</td>\n",
       "    </tr>\n",
       "  </tbody>\n",
       "</table>\n",
       "</div>"
      ],
      "text/plain": [
       "   price  model_year           model  condition  cylinders fuel  \\\n",
       "0   9400      2011.0          bmw x5       good        6.0  gas   \n",
       "1  25500      2011.0      ford f-150       good        6.0  gas   \n",
       "2   5500      2013.0  hyundai sonata   like new        4.0  gas   \n",
       "3   1500      2003.0      ford f-150       fair        8.0  gas   \n",
       "4  14900      2017.0    chrysler 200  excellent        4.0  gas   \n",
       "5  14990      2014.0    chrysler 300  excellent        6.0  gas   \n",
       "6  12990      2015.0    toyota camry  excellent        4.0  gas   \n",
       "7  15990      2013.0     honda pilot  excellent        6.0  gas   \n",
       "8  11500      2012.0     kia sorento  excellent        4.0  gas   \n",
       "9   9200      2008.0     honda pilot  excellent        6.0  gas   \n",
       "\n",
       "        odometer transmission    type    paint_color  is_4wd date_posted  \\\n",
       "0  145000.000000    automatic     SUV  No disponible     1.0  2018-06-23   \n",
       "1   88705.000000    automatic  pickup          white     1.0  2018-10-19   \n",
       "2  110000.000000    automatic   sedan            red     0.0  2019-02-07   \n",
       "3  162071.751024    automatic  pickup  No disponible     0.0  2019-03-22   \n",
       "4   80903.000000    automatic   sedan          black     0.0  2019-04-02   \n",
       "5   57954.000000    automatic   sedan          black     1.0  2018-06-20   \n",
       "6   79212.000000    automatic   sedan          white     0.0  2018-12-27   \n",
       "7  109473.000000    automatic     SUV          black     1.0  2019-01-07   \n",
       "8  104174.000000    automatic     SUV  No disponible     1.0  2018-07-16   \n",
       "9  147191.000000    automatic     SUV           blue     1.0  2019-02-15   \n",
       "\n",
       "   days_listed  \n",
       "0           19  \n",
       "1           50  \n",
       "2           79  \n",
       "3            9  \n",
       "4           28  \n",
       "5           15  \n",
       "6           73  \n",
       "7           68  \n",
       "8           19  \n",
       "9           17  "
      ]
     },
     "execution_count": 17,
     "metadata": {},
     "output_type": "execute_result"
    }
   ],
   "source": [
    "# Comprobar la tabla sin los valores ausentes reemplazados\n",
    "datos.head(10)"
   ]
  },
  {
   "cell_type": "markdown",
   "metadata": {},
   "source": [
    "## Corregir los tipos de datos <a id='transformacion_datos'></a>"
   ]
  },
  {
   "cell_type": "code",
   "execution_count": 18,
   "metadata": {},
   "outputs": [],
   "source": [
    "# cambiar tipos de datos\n",
    "datos['model_year'] = datos['model_year'].astype('int')\n",
    "datos['date_posted'] = pd.to_datetime(datos['date_posted'], format='%Y-%m-%d')\n",
    "datos['is_4wd'] = datos['is_4wd'].astype('bool')\n"
   ]
  },
  {
   "cell_type": "code",
   "execution_count": 19,
   "metadata": {},
   "outputs": [
    {
     "name": "stdout",
     "output_type": "stream",
     "text": [
      "<class 'pandas.core.frame.DataFrame'>\n",
      "Int64Index: 51524 entries, 0 to 51524\n",
      "Data columns (total 13 columns):\n",
      " #   Column        Non-Null Count  Dtype         \n",
      "---  ------        --------------  -----         \n",
      " 0   price         51524 non-null  int64         \n",
      " 1   model_year    51524 non-null  int64         \n",
      " 2   model         51524 non-null  object        \n",
      " 3   condition     51524 non-null  object        \n",
      " 4   cylinders     51524 non-null  float64       \n",
      " 5   fuel          51524 non-null  object        \n",
      " 6   odometer      51524 non-null  float64       \n",
      " 7   transmission  51524 non-null  object        \n",
      " 8   type          51524 non-null  object        \n",
      " 9   paint_color   51524 non-null  object        \n",
      " 10  is_4wd        51524 non-null  bool          \n",
      " 11  date_posted   51524 non-null  datetime64[ns]\n",
      " 12  days_listed   51524 non-null  int64         \n",
      "dtypes: bool(1), datetime64[ns](1), float64(2), int64(3), object(6)\n",
      "memory usage: 5.2+ MB\n"
     ]
    }
   ],
   "source": [
    "# actualizar información general\n",
    "datos.info()"
   ]
  },
  {
   "cell_type": "markdown",
   "metadata": {},
   "source": [
    "## Enriquecer datos <a id='enriquecer'></a>"
   ]
  },
  {
   "cell_type": "code",
   "execution_count": 20,
   "metadata": {},
   "outputs": [
    {
     "data": {
      "text/html": [
       "<div>\n",
       "<style scoped>\n",
       "    .dataframe tbody tr th:only-of-type {\n",
       "        vertical-align: middle;\n",
       "    }\n",
       "\n",
       "    .dataframe tbody tr th {\n",
       "        vertical-align: top;\n",
       "    }\n",
       "\n",
       "    .dataframe thead th {\n",
       "        text-align: right;\n",
       "    }\n",
       "</style>\n",
       "<table border=\"1\" class=\"dataframe\">\n",
       "  <thead>\n",
       "    <tr style=\"text-align: right;\">\n",
       "      <th></th>\n",
       "      <th>price</th>\n",
       "      <th>model_year</th>\n",
       "      <th>model</th>\n",
       "      <th>condition</th>\n",
       "      <th>cylinders</th>\n",
       "      <th>fuel</th>\n",
       "      <th>odometer</th>\n",
       "      <th>transmission</th>\n",
       "      <th>type</th>\n",
       "      <th>paint_color</th>\n",
       "      <th>is_4wd</th>\n",
       "      <th>date_posted</th>\n",
       "      <th>days_listed</th>\n",
       "      <th>day</th>\n",
       "      <th>month</th>\n",
       "      <th>year_publicacion</th>\n",
       "    </tr>\n",
       "  </thead>\n",
       "  <tbody>\n",
       "    <tr>\n",
       "      <th>0</th>\n",
       "      <td>9400</td>\n",
       "      <td>2011</td>\n",
       "      <td>bmw x5</td>\n",
       "      <td>good</td>\n",
       "      <td>6.0</td>\n",
       "      <td>gas</td>\n",
       "      <td>145000.000000</td>\n",
       "      <td>automatic</td>\n",
       "      <td>SUV</td>\n",
       "      <td>No disponible</td>\n",
       "      <td>True</td>\n",
       "      <td>2018-06-23</td>\n",
       "      <td>19</td>\n",
       "      <td>23</td>\n",
       "      <td>6</td>\n",
       "      <td>2018</td>\n",
       "    </tr>\n",
       "    <tr>\n",
       "      <th>1</th>\n",
       "      <td>25500</td>\n",
       "      <td>2011</td>\n",
       "      <td>ford f-150</td>\n",
       "      <td>good</td>\n",
       "      <td>6.0</td>\n",
       "      <td>gas</td>\n",
       "      <td>88705.000000</td>\n",
       "      <td>automatic</td>\n",
       "      <td>pickup</td>\n",
       "      <td>white</td>\n",
       "      <td>True</td>\n",
       "      <td>2018-10-19</td>\n",
       "      <td>50</td>\n",
       "      <td>19</td>\n",
       "      <td>10</td>\n",
       "      <td>2018</td>\n",
       "    </tr>\n",
       "    <tr>\n",
       "      <th>2</th>\n",
       "      <td>5500</td>\n",
       "      <td>2013</td>\n",
       "      <td>hyundai sonata</td>\n",
       "      <td>like new</td>\n",
       "      <td>4.0</td>\n",
       "      <td>gas</td>\n",
       "      <td>110000.000000</td>\n",
       "      <td>automatic</td>\n",
       "      <td>sedan</td>\n",
       "      <td>red</td>\n",
       "      <td>False</td>\n",
       "      <td>2019-02-07</td>\n",
       "      <td>79</td>\n",
       "      <td>7</td>\n",
       "      <td>2</td>\n",
       "      <td>2019</td>\n",
       "    </tr>\n",
       "    <tr>\n",
       "      <th>3</th>\n",
       "      <td>1500</td>\n",
       "      <td>2003</td>\n",
       "      <td>ford f-150</td>\n",
       "      <td>fair</td>\n",
       "      <td>8.0</td>\n",
       "      <td>gas</td>\n",
       "      <td>162071.751024</td>\n",
       "      <td>automatic</td>\n",
       "      <td>pickup</td>\n",
       "      <td>No disponible</td>\n",
       "      <td>False</td>\n",
       "      <td>2019-03-22</td>\n",
       "      <td>9</td>\n",
       "      <td>22</td>\n",
       "      <td>3</td>\n",
       "      <td>2019</td>\n",
       "    </tr>\n",
       "    <tr>\n",
       "      <th>4</th>\n",
       "      <td>14900</td>\n",
       "      <td>2017</td>\n",
       "      <td>chrysler 200</td>\n",
       "      <td>excellent</td>\n",
       "      <td>4.0</td>\n",
       "      <td>gas</td>\n",
       "      <td>80903.000000</td>\n",
       "      <td>automatic</td>\n",
       "      <td>sedan</td>\n",
       "      <td>black</td>\n",
       "      <td>False</td>\n",
       "      <td>2019-04-02</td>\n",
       "      <td>28</td>\n",
       "      <td>2</td>\n",
       "      <td>4</td>\n",
       "      <td>2019</td>\n",
       "    </tr>\n",
       "  </tbody>\n",
       "</table>\n",
       "</div>"
      ],
      "text/plain": [
       "   price  model_year           model  condition  cylinders fuel  \\\n",
       "0   9400        2011          bmw x5       good        6.0  gas   \n",
       "1  25500        2011      ford f-150       good        6.0  gas   \n",
       "2   5500        2013  hyundai sonata   like new        4.0  gas   \n",
       "3   1500        2003      ford f-150       fair        8.0  gas   \n",
       "4  14900        2017    chrysler 200  excellent        4.0  gas   \n",
       "\n",
       "        odometer transmission    type    paint_color  is_4wd date_posted  \\\n",
       "0  145000.000000    automatic     SUV  No disponible    True  2018-06-23   \n",
       "1   88705.000000    automatic  pickup          white    True  2018-10-19   \n",
       "2  110000.000000    automatic   sedan            red   False  2019-02-07   \n",
       "3  162071.751024    automatic  pickup  No disponible   False  2019-03-22   \n",
       "4   80903.000000    automatic   sedan          black   False  2019-04-02   \n",
       "\n",
       "   days_listed  day  month  year_publicacion  \n",
       "0           19   23      6              2018  \n",
       "1           50   19     10              2018  \n",
       "2           79    7      2              2019  \n",
       "3            9   22      3              2019  \n",
       "4           28    2      4              2019  "
      ]
     },
     "execution_count": 20,
     "metadata": {},
     "output_type": "execute_result"
    }
   ],
   "source": [
    "# Agrega valores de fecha y hora para cuando se colocó el anuncio\n",
    "datos['day']= pd.DatetimeIndex(datos['date_posted']).day\n",
    "datos['month']= pd.DatetimeIndex(datos['date_posted']).month\n",
    "datos['year_publicacion']= pd.DatetimeIndex(datos['date_posted']).year\n",
    "datos.head()"
   ]
  },
  {
   "cell_type": "code",
   "execution_count": 21,
   "metadata": {},
   "outputs": [
    {
     "name": "stdout",
     "output_type": "stream",
     "text": [
      "<class 'pandas.core.frame.DataFrame'>\n",
      "Int64Index: 51524 entries, 0 to 51524\n",
      "Data columns (total 16 columns):\n",
      " #   Column            Non-Null Count  Dtype         \n",
      "---  ------            --------------  -----         \n",
      " 0   price             51524 non-null  int64         \n",
      " 1   model_year        51524 non-null  int64         \n",
      " 2   model             51524 non-null  object        \n",
      " 3   condition         51524 non-null  object        \n",
      " 4   cylinders         51524 non-null  float64       \n",
      " 5   fuel              51524 non-null  object        \n",
      " 6   odometer          51524 non-null  float64       \n",
      " 7   transmission      51524 non-null  object        \n",
      " 8   type              51524 non-null  object        \n",
      " 9   paint_color       51524 non-null  object        \n",
      " 10  is_4wd            51524 non-null  bool          \n",
      " 11  date_posted       51524 non-null  datetime64[ns]\n",
      " 12  days_listed       51524 non-null  int64         \n",
      " 13  day               51524 non-null  int64         \n",
      " 14  month             51524 non-null  int64         \n",
      " 15  year_publicacion  51524 non-null  int64         \n",
      "dtypes: bool(1), datetime64[ns](1), float64(2), int64(6), object(6)\n",
      "memory usage: 6.3+ MB\n"
     ]
    },
    {
     "data": {
      "text/html": [
       "<div>\n",
       "<style scoped>\n",
       "    .dataframe tbody tr th:only-of-type {\n",
       "        vertical-align: middle;\n",
       "    }\n",
       "\n",
       "    .dataframe tbody tr th {\n",
       "        vertical-align: top;\n",
       "    }\n",
       "\n",
       "    .dataframe thead th {\n",
       "        text-align: right;\n",
       "    }\n",
       "</style>\n",
       "<table border=\"1\" class=\"dataframe\">\n",
       "  <thead>\n",
       "    <tr style=\"text-align: right;\">\n",
       "      <th></th>\n",
       "      <th>price</th>\n",
       "      <th>model_year</th>\n",
       "      <th>model</th>\n",
       "      <th>condition</th>\n",
       "      <th>cylinders</th>\n",
       "      <th>fuel</th>\n",
       "      <th>odometer</th>\n",
       "      <th>transmission</th>\n",
       "      <th>type</th>\n",
       "      <th>paint_color</th>\n",
       "      <th>is_4wd</th>\n",
       "      <th>date_posted</th>\n",
       "      <th>days_listed</th>\n",
       "      <th>day</th>\n",
       "      <th>month</th>\n",
       "      <th>year_publicacion</th>\n",
       "      <th>años_vehiculo</th>\n",
       "    </tr>\n",
       "  </thead>\n",
       "  <tbody>\n",
       "    <tr>\n",
       "      <th>0</th>\n",
       "      <td>9400</td>\n",
       "      <td>2011</td>\n",
       "      <td>bmw x5</td>\n",
       "      <td>good</td>\n",
       "      <td>6.0</td>\n",
       "      <td>gas</td>\n",
       "      <td>145000.000000</td>\n",
       "      <td>automatic</td>\n",
       "      <td>SUV</td>\n",
       "      <td>No disponible</td>\n",
       "      <td>True</td>\n",
       "      <td>2018-06-23</td>\n",
       "      <td>19</td>\n",
       "      <td>23</td>\n",
       "      <td>6</td>\n",
       "      <td>2018</td>\n",
       "      <td>8</td>\n",
       "    </tr>\n",
       "    <tr>\n",
       "      <th>1</th>\n",
       "      <td>25500</td>\n",
       "      <td>2011</td>\n",
       "      <td>ford f-150</td>\n",
       "      <td>good</td>\n",
       "      <td>6.0</td>\n",
       "      <td>gas</td>\n",
       "      <td>88705.000000</td>\n",
       "      <td>automatic</td>\n",
       "      <td>pickup</td>\n",
       "      <td>white</td>\n",
       "      <td>True</td>\n",
       "      <td>2018-10-19</td>\n",
       "      <td>50</td>\n",
       "      <td>19</td>\n",
       "      <td>10</td>\n",
       "      <td>2018</td>\n",
       "      <td>8</td>\n",
       "    </tr>\n",
       "    <tr>\n",
       "      <th>2</th>\n",
       "      <td>5500</td>\n",
       "      <td>2013</td>\n",
       "      <td>hyundai sonata</td>\n",
       "      <td>like new</td>\n",
       "      <td>4.0</td>\n",
       "      <td>gas</td>\n",
       "      <td>110000.000000</td>\n",
       "      <td>automatic</td>\n",
       "      <td>sedan</td>\n",
       "      <td>red</td>\n",
       "      <td>False</td>\n",
       "      <td>2019-02-07</td>\n",
       "      <td>79</td>\n",
       "      <td>7</td>\n",
       "      <td>2</td>\n",
       "      <td>2019</td>\n",
       "      <td>7</td>\n",
       "    </tr>\n",
       "    <tr>\n",
       "      <th>3</th>\n",
       "      <td>1500</td>\n",
       "      <td>2003</td>\n",
       "      <td>ford f-150</td>\n",
       "      <td>fair</td>\n",
       "      <td>8.0</td>\n",
       "      <td>gas</td>\n",
       "      <td>162071.751024</td>\n",
       "      <td>automatic</td>\n",
       "      <td>pickup</td>\n",
       "      <td>No disponible</td>\n",
       "      <td>False</td>\n",
       "      <td>2019-03-22</td>\n",
       "      <td>9</td>\n",
       "      <td>22</td>\n",
       "      <td>3</td>\n",
       "      <td>2019</td>\n",
       "      <td>17</td>\n",
       "    </tr>\n",
       "    <tr>\n",
       "      <th>4</th>\n",
       "      <td>14900</td>\n",
       "      <td>2017</td>\n",
       "      <td>chrysler 200</td>\n",
       "      <td>excellent</td>\n",
       "      <td>4.0</td>\n",
       "      <td>gas</td>\n",
       "      <td>80903.000000</td>\n",
       "      <td>automatic</td>\n",
       "      <td>sedan</td>\n",
       "      <td>black</td>\n",
       "      <td>False</td>\n",
       "      <td>2019-04-02</td>\n",
       "      <td>28</td>\n",
       "      <td>2</td>\n",
       "      <td>4</td>\n",
       "      <td>2019</td>\n",
       "      <td>3</td>\n",
       "    </tr>\n",
       "  </tbody>\n",
       "</table>\n",
       "</div>"
      ],
      "text/plain": [
       "   price  model_year           model  condition  cylinders fuel  \\\n",
       "0   9400        2011          bmw x5       good        6.0  gas   \n",
       "1  25500        2011      ford f-150       good        6.0  gas   \n",
       "2   5500        2013  hyundai sonata   like new        4.0  gas   \n",
       "3   1500        2003      ford f-150       fair        8.0  gas   \n",
       "4  14900        2017    chrysler 200  excellent        4.0  gas   \n",
       "\n",
       "        odometer transmission    type    paint_color  is_4wd date_posted  \\\n",
       "0  145000.000000    automatic     SUV  No disponible    True  2018-06-23   \n",
       "1   88705.000000    automatic  pickup          white    True  2018-10-19   \n",
       "2  110000.000000    automatic   sedan            red   False  2019-02-07   \n",
       "3  162071.751024    automatic  pickup  No disponible   False  2019-03-22   \n",
       "4   80903.000000    automatic   sedan          black   False  2019-04-02   \n",
       "\n",
       "   days_listed  day  month  year_publicacion  años_vehiculo  \n",
       "0           19   23      6              2018              8  \n",
       "1           50   19     10              2018              8  \n",
       "2           79    7      2              2019              7  \n",
       "3            9   22      3              2019             17  \n",
       "4           28    2      4              2019              3  "
      ]
     },
     "execution_count": 21,
     "metadata": {},
     "output_type": "execute_result"
    }
   ],
   "source": [
    "#Agrega los años del vehículo cuando el anuncio se colocó\n",
    "\n",
    "datos.info()\n",
    "datos['años_vehiculo'] = (datos['year_publicacion'] - datos['model_year']) + 1\n",
    "datos.head()\n"
   ]
  },
  {
   "cell_type": "code",
   "execution_count": 22,
   "metadata": {},
   "outputs": [
    {
     "data": {
      "text/html": [
       "<div>\n",
       "<style scoped>\n",
       "    .dataframe tbody tr th:only-of-type {\n",
       "        vertical-align: middle;\n",
       "    }\n",
       "\n",
       "    .dataframe tbody tr th {\n",
       "        vertical-align: top;\n",
       "    }\n",
       "\n",
       "    .dataframe thead th {\n",
       "        text-align: right;\n",
       "    }\n",
       "</style>\n",
       "<table border=\"1\" class=\"dataframe\">\n",
       "  <thead>\n",
       "    <tr style=\"text-align: right;\">\n",
       "      <th></th>\n",
       "      <th>price</th>\n",
       "      <th>model_year</th>\n",
       "      <th>model</th>\n",
       "      <th>condition</th>\n",
       "      <th>cylinders</th>\n",
       "      <th>fuel</th>\n",
       "      <th>odometer</th>\n",
       "      <th>transmission</th>\n",
       "      <th>type</th>\n",
       "      <th>paint_color</th>\n",
       "      <th>is_4wd</th>\n",
       "      <th>date_posted</th>\n",
       "      <th>days_listed</th>\n",
       "      <th>day</th>\n",
       "      <th>month</th>\n",
       "      <th>year_publicacion</th>\n",
       "      <th>años_vehiculo</th>\n",
       "    </tr>\n",
       "  </thead>\n",
       "  <tbody>\n",
       "    <tr>\n",
       "      <th>0</th>\n",
       "      <td>9400</td>\n",
       "      <td>2011</td>\n",
       "      <td>bmw x5</td>\n",
       "      <td>good</td>\n",
       "      <td>6.0</td>\n",
       "      <td>gas</td>\n",
       "      <td>145000.000000</td>\n",
       "      <td>automatic</td>\n",
       "      <td>SUV</td>\n",
       "      <td>No disponible</td>\n",
       "      <td>True</td>\n",
       "      <td>2018-06-23</td>\n",
       "      <td>19</td>\n",
       "      <td>23</td>\n",
       "      <td>6</td>\n",
       "      <td>2018</td>\n",
       "      <td>8</td>\n",
       "    </tr>\n",
       "    <tr>\n",
       "      <th>1</th>\n",
       "      <td>25500</td>\n",
       "      <td>2011</td>\n",
       "      <td>ford f-150</td>\n",
       "      <td>good</td>\n",
       "      <td>6.0</td>\n",
       "      <td>gas</td>\n",
       "      <td>88705.000000</td>\n",
       "      <td>automatic</td>\n",
       "      <td>pickup</td>\n",
       "      <td>white</td>\n",
       "      <td>True</td>\n",
       "      <td>2018-10-19</td>\n",
       "      <td>50</td>\n",
       "      <td>19</td>\n",
       "      <td>10</td>\n",
       "      <td>2018</td>\n",
       "      <td>8</td>\n",
       "    </tr>\n",
       "    <tr>\n",
       "      <th>2</th>\n",
       "      <td>5500</td>\n",
       "      <td>2013</td>\n",
       "      <td>hyundai sonata</td>\n",
       "      <td>like new</td>\n",
       "      <td>4.0</td>\n",
       "      <td>gas</td>\n",
       "      <td>110000.000000</td>\n",
       "      <td>automatic</td>\n",
       "      <td>sedan</td>\n",
       "      <td>red</td>\n",
       "      <td>False</td>\n",
       "      <td>2019-02-07</td>\n",
       "      <td>79</td>\n",
       "      <td>7</td>\n",
       "      <td>2</td>\n",
       "      <td>2019</td>\n",
       "      <td>7</td>\n",
       "    </tr>\n",
       "    <tr>\n",
       "      <th>3</th>\n",
       "      <td>1500</td>\n",
       "      <td>2003</td>\n",
       "      <td>ford f-150</td>\n",
       "      <td>fair</td>\n",
       "      <td>8.0</td>\n",
       "      <td>gas</td>\n",
       "      <td>162071.751024</td>\n",
       "      <td>automatic</td>\n",
       "      <td>pickup</td>\n",
       "      <td>No disponible</td>\n",
       "      <td>False</td>\n",
       "      <td>2019-03-22</td>\n",
       "      <td>9</td>\n",
       "      <td>22</td>\n",
       "      <td>3</td>\n",
       "      <td>2019</td>\n",
       "      <td>17</td>\n",
       "    </tr>\n",
       "    <tr>\n",
       "      <th>4</th>\n",
       "      <td>14900</td>\n",
       "      <td>2017</td>\n",
       "      <td>chrysler 200</td>\n",
       "      <td>excellent</td>\n",
       "      <td>4.0</td>\n",
       "      <td>gas</td>\n",
       "      <td>80903.000000</td>\n",
       "      <td>automatic</td>\n",
       "      <td>sedan</td>\n",
       "      <td>black</td>\n",
       "      <td>False</td>\n",
       "      <td>2019-04-02</td>\n",
       "      <td>28</td>\n",
       "      <td>2</td>\n",
       "      <td>4</td>\n",
       "      <td>2019</td>\n",
       "      <td>3</td>\n",
       "    </tr>\n",
       "  </tbody>\n",
       "</table>\n",
       "</div>"
      ],
      "text/plain": [
       "   price  model_year           model  condition  cylinders fuel  \\\n",
       "0   9400        2011          bmw x5       good        6.0  gas   \n",
       "1  25500        2011      ford f-150       good        6.0  gas   \n",
       "2   5500        2013  hyundai sonata   like new        4.0  gas   \n",
       "3   1500        2003      ford f-150       fair        8.0  gas   \n",
       "4  14900        2017    chrysler 200  excellent        4.0  gas   \n",
       "\n",
       "        odometer transmission    type    paint_color  is_4wd date_posted  \\\n",
       "0  145000.000000    automatic     SUV  No disponible    True  2018-06-23   \n",
       "1   88705.000000    automatic  pickup          white    True  2018-10-19   \n",
       "2  110000.000000    automatic   sedan            red   False  2019-02-07   \n",
       "3  162071.751024    automatic  pickup  No disponible   False  2019-03-22   \n",
       "4   80903.000000    automatic   sedan          black   False  2019-04-02   \n",
       "\n",
       "   days_listed  day  month  year_publicacion  años_vehiculo  \n",
       "0           19   23      6              2018              8  \n",
       "1           50   19     10              2018              8  \n",
       "2           79    7      2              2019              7  \n",
       "3            9   22      3              2019             17  \n",
       "4           28    2      4              2019              3  "
      ]
     },
     "execution_count": 22,
     "metadata": {},
     "output_type": "execute_result"
    }
   ],
   "source": [
    "# función para corregir problemáticos en 'años_vehiculo'\n",
    "datos['años_vehiculo'].unique()\n",
    "datos['años_vehiculo']= datos['años_vehiculo'].apply(lambda x: 0 if x > 1000 else x)\n",
    "datos.head()\n",
    "\n"
   ]
  },
  {
   "cell_type": "code",
   "execution_count": 23,
   "metadata": {},
   "outputs": [
    {
     "data": {
      "text/html": [
       "<div>\n",
       "<style scoped>\n",
       "    .dataframe tbody tr th:only-of-type {\n",
       "        vertical-align: middle;\n",
       "    }\n",
       "\n",
       "    .dataframe tbody tr th {\n",
       "        vertical-align: top;\n",
       "    }\n",
       "\n",
       "    .dataframe thead th {\n",
       "        text-align: right;\n",
       "    }\n",
       "</style>\n",
       "<table border=\"1\" class=\"dataframe\">\n",
       "  <thead>\n",
       "    <tr style=\"text-align: right;\">\n",
       "      <th></th>\n",
       "      <th>price</th>\n",
       "      <th>model_year</th>\n",
       "      <th>model</th>\n",
       "      <th>condition</th>\n",
       "      <th>cylinders</th>\n",
       "      <th>fuel</th>\n",
       "      <th>odometer</th>\n",
       "      <th>transmission</th>\n",
       "      <th>type</th>\n",
       "      <th>paint_color</th>\n",
       "      <th>is_4wd</th>\n",
       "      <th>date_posted</th>\n",
       "      <th>days_listed</th>\n",
       "      <th>day</th>\n",
       "      <th>month</th>\n",
       "      <th>year_publicacion</th>\n",
       "      <th>años_vehiculo</th>\n",
       "      <th>prom_odometer</th>\n",
       "    </tr>\n",
       "  </thead>\n",
       "  <tbody>\n",
       "    <tr>\n",
       "      <th>0</th>\n",
       "      <td>9400</td>\n",
       "      <td>2011</td>\n",
       "      <td>bmw x5</td>\n",
       "      <td>good</td>\n",
       "      <td>6.0</td>\n",
       "      <td>gas</td>\n",
       "      <td>145000.000000</td>\n",
       "      <td>automatic</td>\n",
       "      <td>SUV</td>\n",
       "      <td>No disponible</td>\n",
       "      <td>True</td>\n",
       "      <td>2018-06-23</td>\n",
       "      <td>19</td>\n",
       "      <td>23</td>\n",
       "      <td>6</td>\n",
       "      <td>2018</td>\n",
       "      <td>8</td>\n",
       "      <td>18125.000000</td>\n",
       "    </tr>\n",
       "    <tr>\n",
       "      <th>1</th>\n",
       "      <td>25500</td>\n",
       "      <td>2011</td>\n",
       "      <td>ford f-150</td>\n",
       "      <td>good</td>\n",
       "      <td>6.0</td>\n",
       "      <td>gas</td>\n",
       "      <td>88705.000000</td>\n",
       "      <td>automatic</td>\n",
       "      <td>pickup</td>\n",
       "      <td>white</td>\n",
       "      <td>True</td>\n",
       "      <td>2018-10-19</td>\n",
       "      <td>50</td>\n",
       "      <td>19</td>\n",
       "      <td>10</td>\n",
       "      <td>2018</td>\n",
       "      <td>8</td>\n",
       "      <td>11088.125000</td>\n",
       "    </tr>\n",
       "    <tr>\n",
       "      <th>2</th>\n",
       "      <td>5500</td>\n",
       "      <td>2013</td>\n",
       "      <td>hyundai sonata</td>\n",
       "      <td>like new</td>\n",
       "      <td>4.0</td>\n",
       "      <td>gas</td>\n",
       "      <td>110000.000000</td>\n",
       "      <td>automatic</td>\n",
       "      <td>sedan</td>\n",
       "      <td>red</td>\n",
       "      <td>False</td>\n",
       "      <td>2019-02-07</td>\n",
       "      <td>79</td>\n",
       "      <td>7</td>\n",
       "      <td>2</td>\n",
       "      <td>2019</td>\n",
       "      <td>7</td>\n",
       "      <td>15714.285714</td>\n",
       "    </tr>\n",
       "    <tr>\n",
       "      <th>3</th>\n",
       "      <td>1500</td>\n",
       "      <td>2003</td>\n",
       "      <td>ford f-150</td>\n",
       "      <td>fair</td>\n",
       "      <td>8.0</td>\n",
       "      <td>gas</td>\n",
       "      <td>162071.751024</td>\n",
       "      <td>automatic</td>\n",
       "      <td>pickup</td>\n",
       "      <td>No disponible</td>\n",
       "      <td>False</td>\n",
       "      <td>2019-03-22</td>\n",
       "      <td>9</td>\n",
       "      <td>22</td>\n",
       "      <td>3</td>\n",
       "      <td>2019</td>\n",
       "      <td>17</td>\n",
       "      <td>9533.632413</td>\n",
       "    </tr>\n",
       "    <tr>\n",
       "      <th>4</th>\n",
       "      <td>14900</td>\n",
       "      <td>2017</td>\n",
       "      <td>chrysler 200</td>\n",
       "      <td>excellent</td>\n",
       "      <td>4.0</td>\n",
       "      <td>gas</td>\n",
       "      <td>80903.000000</td>\n",
       "      <td>automatic</td>\n",
       "      <td>sedan</td>\n",
       "      <td>black</td>\n",
       "      <td>False</td>\n",
       "      <td>2019-04-02</td>\n",
       "      <td>28</td>\n",
       "      <td>2</td>\n",
       "      <td>4</td>\n",
       "      <td>2019</td>\n",
       "      <td>3</td>\n",
       "      <td>26967.666667</td>\n",
       "    </tr>\n",
       "  </tbody>\n",
       "</table>\n",
       "</div>"
      ],
      "text/plain": [
       "   price  model_year           model  condition  cylinders fuel  \\\n",
       "0   9400        2011          bmw x5       good        6.0  gas   \n",
       "1  25500        2011      ford f-150       good        6.0  gas   \n",
       "2   5500        2013  hyundai sonata   like new        4.0  gas   \n",
       "3   1500        2003      ford f-150       fair        8.0  gas   \n",
       "4  14900        2017    chrysler 200  excellent        4.0  gas   \n",
       "\n",
       "        odometer transmission    type    paint_color  is_4wd date_posted  \\\n",
       "0  145000.000000    automatic     SUV  No disponible    True  2018-06-23   \n",
       "1   88705.000000    automatic  pickup          white    True  2018-10-19   \n",
       "2  110000.000000    automatic   sedan            red   False  2019-02-07   \n",
       "3  162071.751024    automatic  pickup  No disponible   False  2019-03-22   \n",
       "4   80903.000000    automatic   sedan          black   False  2019-04-02   \n",
       "\n",
       "   days_listed  day  month  year_publicacion  años_vehiculo  prom_odometer  \n",
       "0           19   23      6              2018              8   18125.000000  \n",
       "1           50   19     10              2018              8   11088.125000  \n",
       "2           79    7      2              2019              7   15714.285714  \n",
       "3            9   22      3              2019             17    9533.632413  \n",
       "4           28    2      4              2019              3   26967.666667  "
      ]
     },
     "execution_count": 23,
     "metadata": {},
     "output_type": "execute_result"
    }
   ],
   "source": [
    "# Agrega el millaje promedio del vehículo por año\n",
    "   \n",
    "datos['prom_odometer']= datos['odometer']/datos['años_vehiculo']\n",
    "datos.head()"
   ]
  },
  {
   "cell_type": "code",
   "execution_count": 24,
   "metadata": {},
   "outputs": [],
   "source": [
    "# Podría ser útil reemplazar los valores de condición con algo que se pueda manipular más fácilmente\n",
    "\n",
    "def replace_condition(wrong_values,correct_values):\n",
    "        datos['condition']= datos['condition'].replace(wrong_values,correct_values)\n",
    "        \n",
    "replace_condition(wrong_values= 'salvage', correct_values = 0)\n",
    "replace_condition(wrong_values= 'fair', correct_values = 1)\n",
    "replace_condition(wrong_values= 'good', correct_values = 2)\n",
    "replace_condition(wrong_values= 'excellent', correct_values = 3)\n",
    "replace_condition(wrong_values= 'like new', correct_values = 4)\n",
    "replace_condition(wrong_values= 'new', correct_values = 5)\n",
    "\n"
   ]
  },
  {
   "cell_type": "code",
   "execution_count": 25,
   "metadata": {},
   "outputs": [
    {
     "data": {
      "text/plain": [
       "array([0, 1, 2, 3, 4, 5])"
      ]
     },
     "execution_count": 25,
     "metadata": {},
     "output_type": "execute_result"
    }
   ],
   "source": [
    "datos['condition'].sort_values().unique()"
   ]
  },
  {
   "cell_type": "markdown",
   "metadata": {},
   "source": [
    "## Comprobar datos limpios <a id='comprobar'></a>"
   ]
  },
  {
   "cell_type": "code",
   "execution_count": 26,
   "metadata": {},
   "outputs": [
    {
     "name": "stdout",
     "output_type": "stream",
     "text": [
      "<class 'pandas.core.frame.DataFrame'>\n",
      "Int64Index: 51524 entries, 0 to 51524\n",
      "Data columns (total 18 columns):\n",
      " #   Column            Non-Null Count  Dtype         \n",
      "---  ------            --------------  -----         \n",
      " 0   price             51524 non-null  int64         \n",
      " 1   model_year        51524 non-null  int64         \n",
      " 2   model             51524 non-null  object        \n",
      " 3   condition         51524 non-null  int64         \n",
      " 4   cylinders         51524 non-null  float64       \n",
      " 5   fuel              51524 non-null  object        \n",
      " 6   odometer          51524 non-null  float64       \n",
      " 7   transmission      51524 non-null  object        \n",
      " 8   type              51524 non-null  object        \n",
      " 9   paint_color       51524 non-null  object        \n",
      " 10  is_4wd            51524 non-null  bool          \n",
      " 11  date_posted       51524 non-null  datetime64[ns]\n",
      " 12  days_listed       51524 non-null  int64         \n",
      " 13  day               51524 non-null  int64         \n",
      " 14  month             51524 non-null  int64         \n",
      " 15  year_publicacion  51524 non-null  int64         \n",
      " 16  años_vehiculo     51524 non-null  int64         \n",
      " 17  prom_odometer     51524 non-null  float64       \n",
      "dtypes: bool(1), datetime64[ns](1), float64(3), int64(8), object(5)\n",
      "memory usage: 7.1+ MB\n"
     ]
    }
   ],
   "source": [
    "# imprime la información general/resumida sobre el DataFrame\n",
    "datos.info()\n"
   ]
  },
  {
   "cell_type": "code",
   "execution_count": 27,
   "metadata": {},
   "outputs": [
    {
     "data": {
      "text/html": [
       "<div>\n",
       "<style scoped>\n",
       "    .dataframe tbody tr th:only-of-type {\n",
       "        vertical-align: middle;\n",
       "    }\n",
       "\n",
       "    .dataframe tbody tr th {\n",
       "        vertical-align: top;\n",
       "    }\n",
       "\n",
       "    .dataframe thead th {\n",
       "        text-align: right;\n",
       "    }\n",
       "</style>\n",
       "<table border=\"1\" class=\"dataframe\">\n",
       "  <thead>\n",
       "    <tr style=\"text-align: right;\">\n",
       "      <th></th>\n",
       "      <th>price</th>\n",
       "      <th>model_year</th>\n",
       "      <th>model</th>\n",
       "      <th>condition</th>\n",
       "      <th>cylinders</th>\n",
       "      <th>fuel</th>\n",
       "      <th>odometer</th>\n",
       "      <th>transmission</th>\n",
       "      <th>type</th>\n",
       "      <th>paint_color</th>\n",
       "      <th>is_4wd</th>\n",
       "      <th>date_posted</th>\n",
       "      <th>days_listed</th>\n",
       "      <th>day</th>\n",
       "      <th>month</th>\n",
       "      <th>year_publicacion</th>\n",
       "      <th>años_vehiculo</th>\n",
       "      <th>prom_odometer</th>\n",
       "    </tr>\n",
       "  </thead>\n",
       "  <tbody>\n",
       "    <tr>\n",
       "      <th>0</th>\n",
       "      <td>9400</td>\n",
       "      <td>2011</td>\n",
       "      <td>bmw x5</td>\n",
       "      <td>2</td>\n",
       "      <td>6.0</td>\n",
       "      <td>gas</td>\n",
       "      <td>145000.000000</td>\n",
       "      <td>automatic</td>\n",
       "      <td>SUV</td>\n",
       "      <td>No disponible</td>\n",
       "      <td>True</td>\n",
       "      <td>2018-06-23</td>\n",
       "      <td>19</td>\n",
       "      <td>23</td>\n",
       "      <td>6</td>\n",
       "      <td>2018</td>\n",
       "      <td>8</td>\n",
       "      <td>18125.000000</td>\n",
       "    </tr>\n",
       "    <tr>\n",
       "      <th>1</th>\n",
       "      <td>25500</td>\n",
       "      <td>2011</td>\n",
       "      <td>ford f-150</td>\n",
       "      <td>2</td>\n",
       "      <td>6.0</td>\n",
       "      <td>gas</td>\n",
       "      <td>88705.000000</td>\n",
       "      <td>automatic</td>\n",
       "      <td>pickup</td>\n",
       "      <td>white</td>\n",
       "      <td>True</td>\n",
       "      <td>2018-10-19</td>\n",
       "      <td>50</td>\n",
       "      <td>19</td>\n",
       "      <td>10</td>\n",
       "      <td>2018</td>\n",
       "      <td>8</td>\n",
       "      <td>11088.125000</td>\n",
       "    </tr>\n",
       "    <tr>\n",
       "      <th>2</th>\n",
       "      <td>5500</td>\n",
       "      <td>2013</td>\n",
       "      <td>hyundai sonata</td>\n",
       "      <td>4</td>\n",
       "      <td>4.0</td>\n",
       "      <td>gas</td>\n",
       "      <td>110000.000000</td>\n",
       "      <td>automatic</td>\n",
       "      <td>sedan</td>\n",
       "      <td>red</td>\n",
       "      <td>False</td>\n",
       "      <td>2019-02-07</td>\n",
       "      <td>79</td>\n",
       "      <td>7</td>\n",
       "      <td>2</td>\n",
       "      <td>2019</td>\n",
       "      <td>7</td>\n",
       "      <td>15714.285714</td>\n",
       "    </tr>\n",
       "    <tr>\n",
       "      <th>3</th>\n",
       "      <td>1500</td>\n",
       "      <td>2003</td>\n",
       "      <td>ford f-150</td>\n",
       "      <td>1</td>\n",
       "      <td>8.0</td>\n",
       "      <td>gas</td>\n",
       "      <td>162071.751024</td>\n",
       "      <td>automatic</td>\n",
       "      <td>pickup</td>\n",
       "      <td>No disponible</td>\n",
       "      <td>False</td>\n",
       "      <td>2019-03-22</td>\n",
       "      <td>9</td>\n",
       "      <td>22</td>\n",
       "      <td>3</td>\n",
       "      <td>2019</td>\n",
       "      <td>17</td>\n",
       "      <td>9533.632413</td>\n",
       "    </tr>\n",
       "    <tr>\n",
       "      <th>4</th>\n",
       "      <td>14900</td>\n",
       "      <td>2017</td>\n",
       "      <td>chrysler 200</td>\n",
       "      <td>3</td>\n",
       "      <td>4.0</td>\n",
       "      <td>gas</td>\n",
       "      <td>80903.000000</td>\n",
       "      <td>automatic</td>\n",
       "      <td>sedan</td>\n",
       "      <td>black</td>\n",
       "      <td>False</td>\n",
       "      <td>2019-04-02</td>\n",
       "      <td>28</td>\n",
       "      <td>2</td>\n",
       "      <td>4</td>\n",
       "      <td>2019</td>\n",
       "      <td>3</td>\n",
       "      <td>26967.666667</td>\n",
       "    </tr>\n",
       "  </tbody>\n",
       "</table>\n",
       "</div>"
      ],
      "text/plain": [
       "   price  model_year           model  condition  cylinders fuel  \\\n",
       "0   9400        2011          bmw x5          2        6.0  gas   \n",
       "1  25500        2011      ford f-150          2        6.0  gas   \n",
       "2   5500        2013  hyundai sonata          4        4.0  gas   \n",
       "3   1500        2003      ford f-150          1        8.0  gas   \n",
       "4  14900        2017    chrysler 200          3        4.0  gas   \n",
       "\n",
       "        odometer transmission    type    paint_color  is_4wd date_posted  \\\n",
       "0  145000.000000    automatic     SUV  No disponible    True  2018-06-23   \n",
       "1   88705.000000    automatic  pickup          white    True  2018-10-19   \n",
       "2  110000.000000    automatic   sedan            red   False  2019-02-07   \n",
       "3  162071.751024    automatic  pickup  No disponible   False  2019-03-22   \n",
       "4   80903.000000    automatic   sedan          black   False  2019-04-02   \n",
       "\n",
       "   days_listed  day  month  year_publicacion  años_vehiculo  prom_odometer  \n",
       "0           19   23      6              2018              8   18125.000000  \n",
       "1           50   19     10              2018              8   11088.125000  \n",
       "2           79    7      2              2019              7   15714.285714  \n",
       "3            9   22      3              2019             17    9533.632413  \n",
       "4           28    2      4              2019              3   26967.666667  "
      ]
     },
     "execution_count": 27,
     "metadata": {},
     "output_type": "execute_result"
    }
   ],
   "source": [
    "# imprimir una muestra de datos\n",
    "datos.head()\n"
   ]
  },
  {
   "cell_type": "markdown",
   "metadata": {},
   "source": [
    "## Estudiar parámetros principales <a id='estudiar'></a>\n",
    "\n",
    "Los parámetros son:\n",
    "- Precio\n",
    "- Los años del vehículo cuando el anuncio se colocó\n",
    "- Millaje\n",
    "- Número de cilindros\n",
    "- Estado"
   ]
  },
  {
   "cell_type": "code",
   "execution_count": 28,
   "metadata": {},
   "outputs": [
    {
     "data": {
      "text/plain": [
       "count     51524.00000\n",
       "mean      12132.35104\n",
       "std       10040.86718\n",
       "min           1.00000\n",
       "25%        5000.00000\n",
       "50%        9000.00000\n",
       "75%       16836.00000\n",
       "max      375000.00000\n",
       "Name: price, dtype: float64"
      ]
     },
     "execution_count": 28,
     "metadata": {},
     "output_type": "execute_result"
    },
    {
     "data": {
      "image/png": "[encoded data removed]",
      "text/plain": [
       "<Figure size 432x288 with 1 Axes>"
      ]
     },
     "metadata": {
      "needs_background": "light"
     },
     "output_type": "display_data"
    }
   ],
   "source": [
    "#\n",
    "datos.hist('price',bins=100,range= (0,70000))\n",
    "plt.axvline(12132,0,10000,color='red')\n",
    "plt.axvline(9000,0,10000,color='green')\n",
    "datos['price'].describe()\n"
   ]
  },
  {
   "cell_type": "markdown",
   "metadata": {},
   "source": [
    "Se puede observar en el gráfico que el conjunto de datos tiene valores muy altos que están alejados del bloque principal, esto genera que la media(línea color verde) esté bastante alejada de la mediana(línea color rojo) por lo que se puede concluir que estos valores tan altos están afectando significativamente el promedio. "
   ]
  },
  {
   "cell_type": "code",
   "execution_count": 29,
   "metadata": {},
   "outputs": [
    {
     "data": {
      "text/plain": [
       "count    51524.000000\n",
       "mean         9.512344\n",
       "std          6.102743\n",
       "min          1.000000\n",
       "25%          5.000000\n",
       "50%          9.000000\n",
       "75%         13.000000\n",
       "max        111.000000\n",
       "Name: años_vehiculo, dtype: float64"
      ]
     },
     "execution_count": 29,
     "metadata": {},
     "output_type": "execute_result"
    },
    {
     "data": {
      "image/png": "[encoded data removed]",
      "text/plain": [
       "<Figure size 432x288 with 1 Axes>"
      ]
     },
     "metadata": {
      "needs_background": "light"
     },
     "output_type": "display_data"
    }
   ],
   "source": [
    "#\n",
    "datos.hist('años_vehiculo',bins=50,range= (0,60))\n",
    "plt.axvline(8.556966,0,10000,color='red')\n",
    "plt.axvline(7.000000,0,10000,color='green')\n",
    "datos['años_vehiculo'].describe()\n",
    "\n"
   ]
  },
  {
   "cell_type": "markdown",
   "metadata": {},
   "source": [
    "Se puede observar en el gráfico que el conjunto de datos tiene algunos valores muy altos que están bastante alejados del bloque principal, estos valores atípicos generan que la media (línea color verde) esté alejada de la mediana (línea color rojo) por lo que se puede concluir que estos valores tan altos están afectando el promedio."
   ]
  },
  {
   "cell_type": "code",
   "execution_count": 30,
   "metadata": {},
   "outputs": [
    {
     "data": {
      "text/plain": [
       "count     51524.000000\n",
       "mean     115537.986912\n",
       "std       61872.130623\n",
       "min           0.000000\n",
       "25%       73500.000000\n",
       "50%      114082.500000\n",
       "75%      152011.719127\n",
       "max      990000.000000\n",
       "Name: odometer, dtype: float64"
      ]
     },
     "execution_count": 30,
     "metadata": {},
     "output_type": "execute_result"
    },
    {
     "data": {
      "image/png": "[encoded data removed]",
      "text/plain": [
       "<Figure size 432x288 with 1 Axes>"
      ]
     },
     "metadata": {
      "needs_background": "light"
     },
     "output_type": "display_data"
    }
   ],
   "source": [
    "#\n",
    "datos.hist('odometer',bins=30,range= (0,500000))\n",
    "plt.axvline(97854.326948,0,10000,color='red')\n",
    "plt.axvline(99114,0,10000,color='green')\n",
    "datos['odometer'].describe()\n",
    "\n"
   ]
  },
  {
   "cell_type": "markdown",
   "metadata": {},
   "source": [
    "Se puede observar en el gráfico que el conjunto de datos tiene algunos valores muy altos que están alejados del bloque principal, sin embargo estos valores atípicos no tienen un impacto tan grande en el promedio ya que la media (línea color verde)no está tan alejada de la mediana (línea color rojo)."
   ]
  },
  {
   "cell_type": "code",
   "execution_count": 31,
   "metadata": {},
   "outputs": [
    {
     "data": {
      "text/plain": [
       "count    51524.000000\n",
       "mean         6.130774\n",
       "std          1.658410\n",
       "min          3.000000\n",
       "25%          4.000000\n",
       "50%          6.000000\n",
       "75%          8.000000\n",
       "max         12.000000\n",
       "Name: cylinders, dtype: float64"
      ]
     },
     "execution_count": 31,
     "metadata": {},
     "output_type": "execute_result"
    },
    {
     "data": {
      "image/png": "[encoded data removed]",
      "text/plain": [
       "<Figure size 432x288 with 1 Axes>"
      ]
     },
     "metadata": {
      "needs_background": "light"
     },
     "output_type": "display_data"
    }
   ],
   "source": [
    "#\n",
    "datos.hist('cylinders',bins=20,range= (0,20))\n",
    "plt.axvline(6.125235,0,10000,color='red')\n",
    "plt.axvline(6.000000,0,10000,color='green')\n",
    "datos['cylinders'].describe()\n",
    "\n"
   ]
  },
  {
   "cell_type": "markdown",
   "metadata": {},
   "source": [
    "Se puede observar en el gráfico que el conjunto de datos tiene algunos valores pequeños sin embargo estos valores no tienen un impacto tan grande en el promedio ya que la media (línea color verde) no está tan alejada de la mediana(línea color rojo)."
   ]
  },
  {
   "cell_type": "code",
   "execution_count": 32,
   "metadata": {},
   "outputs": [
    {
     "data": {
      "text/plain": [
       "count    51524.000000\n",
       "mean         2.637548\n",
       "std          0.712449\n",
       "min          0.000000\n",
       "25%          2.000000\n",
       "50%          3.000000\n",
       "75%          3.000000\n",
       "max          5.000000\n",
       "Name: condition, dtype: float64"
      ]
     },
     "execution_count": 32,
     "metadata": {},
     "output_type": "execute_result"
    },
    {
     "data": {
      "image/png": "[encoded data removed]",
      "text/plain": [
       "<Figure size 432x288 with 1 Axes>"
      ]
     },
     "metadata": {
      "needs_background": "light"
     },
     "output_type": "display_data"
    }
   ],
   "source": [
    "#\n",
    "datos.hist('condition',bins=25,range= (0,8))\n",
    "plt.axvline(2.637535,0,10000,color='red')\n",
    "plt.axvline(3.000000,0,10000,color='green')\n",
    "datos['condition'].describe()\n",
    "\n"
   ]
  },
  {
   "cell_type": "markdown",
   "metadata": {},
   "source": [
    "Se puede observar en el gráfico que el conjunto de datos tiene algunos valores muy pequeños mientras que los valores 2 y 3 tienen la mayor cantidad de valores lo que genera que el promedio se vea afectado pot lo que se puede observar que la media (línea color verde) está algo alejada de la mediana(línea color rojo)."
   ]
  },
  {
   "cell_type": "markdown",
   "metadata": {},
   "source": [
    "## Estudiar y tratar valores atípicos <a id='atipicos'></a>\n"
   ]
  },
  {
   "cell_type": "code",
   "execution_count": 33,
   "metadata": {},
   "outputs": [
    {
     "name": "stdout",
     "output_type": "stream",
     "text": [
      "El limite inferior de la columna price es: -12754.0\n",
      "El limite inferior de la columna años_vehiculo es: -7.0\n",
      "El limite inferior de la columna odometer es: -44267.57869040783\n",
      "El limite inferior de la columna cylinders es: -2.0\n",
      "El limite inferior de la columna condition es: 0.5\n"
     ]
    }
   ],
   "source": [
    "# Determina los límites inferiores para valores atípicos\n",
    "\n",
    "# columna price\n",
    "resultados_price= datos['price'].describe()\n",
    "iqr_price = resultados_price['75%'] - resultados_price['25%']\n",
    "inferior_price= resultados_price['25%'] - (1.5*iqr_price)\n",
    "\n",
    "# columna años_vehiculo\n",
    "resultados_años= datos['años_vehiculo'].describe()\n",
    "iqr_años = resultados_años['75%'] - resultados_años['25%']\n",
    "inferior_años= resultados_años['25%'] - (1.5*iqr_años)\n",
    "\n",
    "# columna odometer\n",
    "resultados_odometer= datos['odometer'].describe()\n",
    "iqr_odometer = resultados_odometer['75%'] - resultados_odometer['25%']\n",
    "inferior_odometer= resultados_odometer['25%'] - (1.5*iqr_odometer)\n",
    "\n",
    "# columna cylinders\n",
    "resultados_cylinders= datos['cylinders'].describe()\n",
    "iqr_cylinders = resultados_cylinders['75%'] - resultados_cylinders['25%']\n",
    "inferior_cylinders= resultados_cylinders['25%'] - (1.5*iqr_cylinders)\n",
    "\n",
    "# columna condition\n",
    "resultados_condition= datos['condition'].describe()\n",
    "iqr_condition = resultados_condition['75%'] - resultados_condition['25%']\n",
    "inferior_condition= resultados_condition['25%'] - (1.5*iqr_condition)\n",
    "\n",
    "print((f'El limite inferior de la columna price es: {inferior_price}'))\n",
    "print((f'El limite inferior de la columna años_vehiculo es: {inferior_años}'))     \n",
    "print((f'El limite inferior de la columna odometer es: {inferior_odometer}'))\n",
    "print((f'El limite inferior de la columna cylinders es: {inferior_cylinders}'))\n",
    "print((f'El limite inferior de la columna condition es: {inferior_condition}'))\n"
   ]
  },
  {
   "cell_type": "code",
   "execution_count": 34,
   "metadata": {},
   "outputs": [
    {
     "name": "stdout",
     "output_type": "stream",
     "text": [
      "El limite superior de la columna price es: 34590.0\n",
      "El limite superior de la columna años_vehiculo es: 25.0\n",
      "El limite superior de la columna odometer es: 269779.2978173464\n",
      "El limite superior de la columna cylinders es: 14.0\n",
      "El limite superior de la columna condition es: 4.5\n"
     ]
    }
   ],
   "source": [
    "# Determinar los límites superiores para valores atípicos\n",
    "\n",
    "# columna price\n",
    "resultados_price= datos['price'].describe()\n",
    "iqr_price = resultados_price['75%'] - resultados_price['25%']\n",
    "superior_price= resultados_price['75%'] + (1.5*iqr_price)\n",
    "\n",
    "# columna años_vehiculo\n",
    "resultados_años= datos['años_vehiculo'].describe()\n",
    "iqr_años = resultados_años['75%'] - resultados_años['25%']\n",
    "superior_años= resultados_años['75%'] + (1.5*iqr_años)\n",
    "\n",
    "# columna odometer\n",
    "resultados_odometer= datos['odometer'].describe()\n",
    "iqr_odometer = resultados_odometer['75%'] - resultados_odometer['25%']\n",
    "superior_odometer= resultados_odometer['75%'] + (1.5*iqr_odometer)\n",
    "\n",
    "# columna cylinders\n",
    "resultados_cylinders= datos['cylinders'].describe()\n",
    "iqr_cylinders = resultados_cylinders['75%'] - resultados_cylinders['25%']\n",
    "superior_cylinders= resultados_cylinders['75%'] + (1.5*iqr_cylinders)\n",
    "\n",
    "# columna condition\n",
    "resultados_condition= datos['condition'].describe()\n",
    "iqr_condition = resultados_condition['75%'] - resultados_condition['25%']\n",
    "superior_condition= resultados_condition['75%'] + (1.5*iqr_condition)\n",
    "\n",
    "print((f'El limite superior de la columna price es: {superior_price}'))\n",
    "print((f'El limite superior de la columna años_vehiculo es: {superior_años}'))     \n",
    "print((f'El limite superior de la columna odometer es: {superior_odometer}'))\n",
    "print((f'El limite superior de la columna cylinders es: {superior_cylinders}'))\n",
    "print((f'El limite superior de la columna condition es: {superior_condition}'))\n",
    "\n"
   ]
  },
  {
   "cell_type": "code",
   "execution_count": 35,
   "metadata": {},
   "outputs": [
    {
     "data": {
      "text/html": [
       "<div>\n",
       "<style scoped>\n",
       "    .dataframe tbody tr th:only-of-type {\n",
       "        vertical-align: middle;\n",
       "    }\n",
       "\n",
       "    .dataframe tbody tr th {\n",
       "        vertical-align: top;\n",
       "    }\n",
       "\n",
       "    .dataframe thead th {\n",
       "        text-align: right;\n",
       "    }\n",
       "</style>\n",
       "<table border=\"1\" class=\"dataframe\">\n",
       "  <thead>\n",
       "    <tr style=\"text-align: right;\">\n",
       "      <th></th>\n",
       "      <th>price_sin_atipicos</th>\n",
       "      <th>model_year</th>\n",
       "      <th>model</th>\n",
       "      <th>condition_sin_atipicos</th>\n",
       "      <th>cylinders_sin_atipicos</th>\n",
       "      <th>fuel</th>\n",
       "      <th>odometer_sin_atipicos</th>\n",
       "      <th>transmission</th>\n",
       "      <th>type</th>\n",
       "      <th>paint_color</th>\n",
       "      <th>is_4wd</th>\n",
       "      <th>date_posted</th>\n",
       "      <th>days_listed</th>\n",
       "      <th>day</th>\n",
       "      <th>month</th>\n",
       "      <th>year_publicacion</th>\n",
       "      <th>años_vehiculo_sin_atipicos</th>\n",
       "      <th>promedio_odometer</th>\n",
       "    </tr>\n",
       "  </thead>\n",
       "  <tbody>\n",
       "    <tr>\n",
       "      <th>0</th>\n",
       "      <td>9400</td>\n",
       "      <td>2011</td>\n",
       "      <td>bmw x5</td>\n",
       "      <td>2</td>\n",
       "      <td>6.0</td>\n",
       "      <td>gas</td>\n",
       "      <td>145000.000000</td>\n",
       "      <td>automatic</td>\n",
       "      <td>SUV</td>\n",
       "      <td>No disponible</td>\n",
       "      <td>True</td>\n",
       "      <td>2018-06-23</td>\n",
       "      <td>19</td>\n",
       "      <td>23</td>\n",
       "      <td>6</td>\n",
       "      <td>2018</td>\n",
       "      <td>8</td>\n",
       "      <td>18125.000000</td>\n",
       "    </tr>\n",
       "    <tr>\n",
       "      <th>1</th>\n",
       "      <td>25500</td>\n",
       "      <td>2011</td>\n",
       "      <td>ford f-150</td>\n",
       "      <td>2</td>\n",
       "      <td>6.0</td>\n",
       "      <td>gas</td>\n",
       "      <td>88705.000000</td>\n",
       "      <td>automatic</td>\n",
       "      <td>pickup</td>\n",
       "      <td>white</td>\n",
       "      <td>True</td>\n",
       "      <td>2018-10-19</td>\n",
       "      <td>50</td>\n",
       "      <td>19</td>\n",
       "      <td>10</td>\n",
       "      <td>2018</td>\n",
       "      <td>8</td>\n",
       "      <td>11088.125000</td>\n",
       "    </tr>\n",
       "    <tr>\n",
       "      <th>2</th>\n",
       "      <td>5500</td>\n",
       "      <td>2013</td>\n",
       "      <td>hyundai sonata</td>\n",
       "      <td>4</td>\n",
       "      <td>4.0</td>\n",
       "      <td>gas</td>\n",
       "      <td>110000.000000</td>\n",
       "      <td>automatic</td>\n",
       "      <td>sedan</td>\n",
       "      <td>red</td>\n",
       "      <td>False</td>\n",
       "      <td>2019-02-07</td>\n",
       "      <td>79</td>\n",
       "      <td>7</td>\n",
       "      <td>2</td>\n",
       "      <td>2019</td>\n",
       "      <td>7</td>\n",
       "      <td>15714.285714</td>\n",
       "    </tr>\n",
       "    <tr>\n",
       "      <th>3</th>\n",
       "      <td>1500</td>\n",
       "      <td>2003</td>\n",
       "      <td>ford f-150</td>\n",
       "      <td>1</td>\n",
       "      <td>8.0</td>\n",
       "      <td>gas</td>\n",
       "      <td>162071.751024</td>\n",
       "      <td>automatic</td>\n",
       "      <td>pickup</td>\n",
       "      <td>No disponible</td>\n",
       "      <td>False</td>\n",
       "      <td>2019-03-22</td>\n",
       "      <td>9</td>\n",
       "      <td>22</td>\n",
       "      <td>3</td>\n",
       "      <td>2019</td>\n",
       "      <td>17</td>\n",
       "      <td>9533.632413</td>\n",
       "    </tr>\n",
       "    <tr>\n",
       "      <th>4</th>\n",
       "      <td>14900</td>\n",
       "      <td>2017</td>\n",
       "      <td>chrysler 200</td>\n",
       "      <td>3</td>\n",
       "      <td>4.0</td>\n",
       "      <td>gas</td>\n",
       "      <td>80903.000000</td>\n",
       "      <td>automatic</td>\n",
       "      <td>sedan</td>\n",
       "      <td>black</td>\n",
       "      <td>False</td>\n",
       "      <td>2019-04-02</td>\n",
       "      <td>28</td>\n",
       "      <td>2</td>\n",
       "      <td>4</td>\n",
       "      <td>2019</td>\n",
       "      <td>3</td>\n",
       "      <td>26967.666667</td>\n",
       "    </tr>\n",
       "  </tbody>\n",
       "</table>\n",
       "</div>"
      ],
      "text/plain": [
       "   price_sin_atipicos  model_year           model  condition_sin_atipicos  \\\n",
       "0                9400        2011          bmw x5                       2   \n",
       "1               25500        2011      ford f-150                       2   \n",
       "2                5500        2013  hyundai sonata                       4   \n",
       "3                1500        2003      ford f-150                       1   \n",
       "4               14900        2017    chrysler 200                       3   \n",
       "\n",
       "   cylinders_sin_atipicos fuel  odometer_sin_atipicos transmission    type  \\\n",
       "0                     6.0  gas          145000.000000    automatic     SUV   \n",
       "1                     6.0  gas           88705.000000    automatic  pickup   \n",
       "2                     4.0  gas          110000.000000    automatic   sedan   \n",
       "3                     8.0  gas          162071.751024    automatic  pickup   \n",
       "4                     4.0  gas           80903.000000    automatic   sedan   \n",
       "\n",
       "     paint_color  is_4wd date_posted  days_listed  day  month  \\\n",
       "0  No disponible    True  2018-06-23           19   23      6   \n",
       "1          white    True  2018-10-19           50   19     10   \n",
       "2            red   False  2019-02-07           79    7      2   \n",
       "3  No disponible   False  2019-03-22            9   22      3   \n",
       "4          black   False  2019-04-02           28    2      4   \n",
       "\n",
       "   year_publicacion  años_vehiculo_sin_atipicos  promedio_odometer  \n",
       "0              2018                           8       18125.000000  \n",
       "1              2018                           8       11088.125000  \n",
       "2              2019                           7       15714.285714  \n",
       "3              2019                          17        9533.632413  \n",
       "4              2019                           3       26967.666667  "
      ]
     },
     "execution_count": 35,
     "metadata": {},
     "output_type": "execute_result"
    }
   ],
   "source": [
    "# Almacena los datos sin valores atípicos en un DataFrame separado\n",
    "datos_sin_atipicos= datos[\n",
    "    (datos['price'] < superior_price) & (datos['años_vehiculo'] < superior_años) & (datos['odometer']< superior_odometer)\n",
    "    & (datos['cylinders'] < superior_cylinders) & (datos['condition'] < superior_condition)]\n",
    "\n",
    "datos_sin_atipicos.columns = [\n",
    "    'price_sin_atipicos','model_year','model','condition_sin_atipicos','cylinders_sin_atipicos','fuel',\n",
    "    'odometer_sin_atipicos','transmission','type','paint_color','is_4wd','date_posted','days_listed','day',\n",
    "    'month','year_publicacion','años_vehiculo_sin_atipicos','promedio_odometer']\n",
    "\n",
    "datos_sin_atipicos.head()"
   ]
  },
  {
   "cell_type": "markdown",
   "metadata": {},
   "source": [
    "## Estudiar parámetros principales sin valores atípicos <a id='sin_atipicos'></a>"
   ]
  },
  {
   "cell_type": "code",
   "execution_count": 36,
   "metadata": {},
   "outputs": [
    {
     "data": {
      "text/plain": [
       "array([[<AxesSubplot:title={'center':'price'}>]], dtype=object)"
      ]
     },
     "execution_count": 36,
     "metadata": {},
     "output_type": "execute_result"
    },
    {
     "data": {
      "image/png": "[encoded data removed]",
      "text/plain": [
       "<Figure size 432x288 with 1 Axes>"
      ]
     },
     "metadata": {
      "needs_background": "light"
     },
     "output_type": "display_data"
    },
    {
     "data": {
      "image/png": "[encoded data removed]",
      "text/plain": [
       "<Figure size 432x288 with 1 Axes>"
      ]
     },
     "metadata": {
      "needs_background": "light"
     },
     "output_type": "display_data"
    }
   ],
   "source": [
    "#Comparación de histogramas columna price\n",
    "\n",
    "datos_sin_atipicos.hist('price_sin_atipicos',bins=100) \n",
    "datos.hist('price',bins=100,range= (0,70000))\n",
    "\n"
   ]
  },
  {
   "cell_type": "markdown",
   "metadata": {},
   "source": [
    "Los gráficos contienen la frecuencia de la variable price, se hicieron dos gráficos uno con todos los datos y otro sin los valores atípicos, se pueden observar algunas diferencias entre ambos, los picos se mantienen, la mayoría de datos se encuentran en los valores cercanos a los 5000 y luego a medida que aumenta el precio va bajando la cantidad de anuncios publicados con algunas intermitencias.  "
   ]
  },
  {
   "cell_type": "code",
   "execution_count": 37,
   "metadata": {},
   "outputs": [
    {
     "data": {
      "text/plain": [
       "array([[<AxesSubplot:title={'center':'años_vehiculo'}>]], dtype=object)"
      ]
     },
     "execution_count": 37,
     "metadata": {},
     "output_type": "execute_result"
    },
    {
     "data": {
      "image/png": "[encoded data removed]",
      "text/plain": [
       "<Figure size 432x288 with 1 Axes>"
      ]
     },
     "metadata": {
      "needs_background": "light"
     },
     "output_type": "display_data"
    },
    {
     "data": {
      "image/png": "[encoded data removed]",
      "text/plain": [
       "<Figure size 432x288 with 1 Axes>"
      ]
     },
     "metadata": {
      "needs_background": "light"
     },
     "output_type": "display_data"
    }
   ],
   "source": [
    "#Comparación de histogramas columna años_vehiculo\n",
    "\n",
    "datos_sin_atipicos.hist('años_vehiculo_sin_atipicos',bins=50) \n",
    "datos.hist('años_vehiculo',bins=50,range= (0,25))"
   ]
  },
  {
   "cell_type": "markdown",
   "metadata": {},
   "source": [
    "Los gráficos contienen la frecuencia de la variable años_vehiculo, se hicieron dos gráficos uno con todos los datos y otro sin los valores atípicos, no hay mucha diferencia entre ambos, los picos se mantienen, la mayoría de datos se encuentran en los valores cercanos a los 5 años y luego tenemos otro pico a los 11 años, a partir de ahí a medida que aumentan los años del vehículo van bajando la cantidad de anuncios publicados."
   ]
  },
  {
   "cell_type": "code",
   "execution_count": 38,
   "metadata": {},
   "outputs": [
    {
     "data": {
      "text/plain": [
       "array([[<AxesSubplot:title={'center':'odometer'}>]], dtype=object)"
      ]
     },
     "execution_count": 38,
     "metadata": {},
     "output_type": "execute_result"
    },
    {
     "data": {
      "image/png": "[encoded data removed]",
      "text/plain": [
       "<Figure size 432x288 with 1 Axes>"
      ]
     },
     "metadata": {
      "needs_background": "light"
     },
     "output_type": "display_data"
    },
    {
     "data": {
      "image/png": "[encoded data removed]",
      "text/plain": [
       "<Figure size 432x288 with 1 Axes>"
      ]
     },
     "metadata": {
      "needs_background": "light"
     },
     "output_type": "display_data"
    }
   ],
   "source": [
    "#Comparación de histogramas columna odometer\n",
    "\n",
    "datos_sin_atipicos.hist('odometer_sin_atipicos',bins=30) \n",
    "datos.hist('odometer',bins=30,range= (0,500000))"
   ]
  },
  {
   "cell_type": "markdown",
   "metadata": {},
   "source": [
    "Los gráficos contienen la frecuencia de la variable odometer, se hicieron dos gráficos uno con todos los datos y otro sin los valores atípicos, podemos observar un nuevo pico en el valor de 150000 el resto se mantiene sin muchas diferencias, el pico principal se mantiene, la mayoría de datos se encuentran entre los 100000 y 150000, a partir de ahí a medida que aumenta el millaje van bajando la cantidad de anuncios publicados."
   ]
  },
  {
   "cell_type": "code",
   "execution_count": 39,
   "metadata": {},
   "outputs": [
    {
     "data": {
      "text/plain": [
       "array([[<AxesSubplot:title={'center':'cylinders'}>]], dtype=object)"
      ]
     },
     "execution_count": 39,
     "metadata": {},
     "output_type": "execute_result"
    },
    {
     "data": {
      "image/png": "[encoded data removed]",
      "text/plain": [
       "<Figure size 432x288 with 1 Axes>"
      ]
     },
     "metadata": {
      "needs_background": "light"
     },
     "output_type": "display_data"
    },
    {
     "data": {
      "image/png": "[encoded data removed]",
      "text/plain": [
       "<Figure size 432x288 with 1 Axes>"
      ]
     },
     "metadata": {
      "needs_background": "light"
     },
     "output_type": "display_data"
    }
   ],
   "source": [
    "#Comparación de histogramas columna cylinder\n",
    "\n",
    "datos_sin_atipicos.hist('cylinders_sin_atipicos',bins=20,range= (2,10)) \n",
    "datos.hist('cylinders',bins=20,range= (2,10))"
   ]
  },
  {
   "cell_type": "markdown",
   "metadata": {},
   "source": [
    "Los gráficos contienen la frecuencia de la variable cylinders, se hicieron dos gráficos uno con todos los datos y otro sin los valores atípicos, se puede observar una diferencia en los picos de ambas gráficas, en el gráfico con todos los valores la mayor cantidad de datos se encuentra en 8 cilindros y muy poca diferencia con 6 cilindros, mientras que en el gráfico sin valores atípicos el pico se encuentra en 6 cilindros seguido por 8 cilindros. En ambos gráficos 3, 5 y 10 tienen muy poca frecuencias. "
   ]
  },
  {
   "cell_type": "code",
   "execution_count": 40,
   "metadata": {},
   "outputs": [
    {
     "data": {
      "text/plain": [
       "array([[<AxesSubplot:title={'center':'condition'}>]], dtype=object)"
      ]
     },
     "execution_count": 40,
     "metadata": {},
     "output_type": "execute_result"
    },
    {
     "data": {
      "image/png": "[encoded data removed]",
      "text/plain": [
       "<Figure size 432x288 with 1 Axes>"
      ]
     },
     "metadata": {
      "needs_background": "light"
     },
     "output_type": "display_data"
    },
    {
     "data": {
      "image/png": "[encoded data removed]",
      "text/plain": [
       "<Figure size 432x288 with 1 Axes>"
      ]
     },
     "metadata": {
      "needs_background": "light"
     },
     "output_type": "display_data"
    }
   ],
   "source": [
    "#Comparación de histogramas columna condition\n",
    "\n",
    "#nuevo = 5\n",
    "#como nuevo = 4\n",
    "#excelente = 3\n",
    "#bien = 2\n",
    "#bastante = 1\n",
    "#para rescate = 0\n",
    "\n",
    "datos_sin_atipicos.hist('condition_sin_atipicos',bins=25,range= (0,8)) \n",
    "datos.hist('condition',bins=25,range= (0,8))\n"
   ]
  },
  {
   "cell_type": "markdown",
   "metadata": {},
   "source": [
    "Los gráficos contienen la frecuencia de la variable condition, se hicieron dos gráficos uno con todos los datos y otro sin los valores atípicos, se puede observar que no hay diferencia entre los dos conjuntos de datos, los picos se encuentra en el número 3= Excelente, y los que tienen menos frecuencia son 0= para rescate y 5= nuevo."
   ]
  },
  {
   "cell_type": "markdown",
   "metadata": {},
   "source": [
    "## Periodo de colocación de los anuncios <a id='anuncios'></a>\n"
   ]
  },
  {
   "cell_type": "code",
   "execution_count": 41,
   "metadata": {},
   "outputs": [
    {
     "data": {
      "text/plain": [
       "count    48272.000000\n",
       "mean        39.543110\n",
       "std         28.218767\n",
       "min          0.000000\n",
       "25%         19.000000\n",
       "50%         33.000000\n",
       "75%         53.000000\n",
       "max        271.000000\n",
       "Name: days_listed, dtype: float64"
      ]
     },
     "execution_count": 41,
     "metadata": {},
     "output_type": "execute_result"
    }
   ],
   "source": [
    "datos_sin_atipicos['days_listed'].describe()"
   ]
  },
  {
   "cell_type": "code",
   "execution_count": 42,
   "metadata": {},
   "outputs": [
    {
     "data": {
      "text/plain": [
       "<matplotlib.lines.Line2D at 0x7feffb1c4460>"
      ]
     },
     "execution_count": 42,
     "metadata": {},
     "output_type": "execute_result"
    },
    {
     "data": {
      "image/png": "[encoded data removed]",
      "text/plain": [
       "<Figure size 432x288 with 1 Axes>"
      ]
     },
     "metadata": {
      "needs_background": "light"
     },
     "output_type": "display_data"
    }
   ],
   "source": [
    "datos_sin_atipicos.hist('days_listed',bins=100,range= (0,500)) \n",
    "plt.axvline(39.563914,0,10000,color='red')\n",
    "plt.axvline(33.000000,0,10000,color='green')"
   ]
  },
  {
   "cell_type": "code",
   "execution_count": 43,
   "metadata": {},
   "outputs": [
    {
     "data": {
      "text/plain": [
       "price_sin_atipicos              9950.0\n",
       "años_vehiculo_sin_atipicos        10.0\n",
       "odometer_sin_atipicos         121000.0\n",
       "cylinders_sin_atipicos             6.0\n",
       "condition_sin_atipicos             3.0\n",
       "dtype: float64"
      ]
     },
     "execution_count": 43,
     "metadata": {},
     "output_type": "execute_result"
    }
   ],
   "source": [
    "#cuando se eliminaron rápidamente\n",
    "\n",
    "result_days_listed= datos_sin_atipicos['days_listed'].describe()\n",
    "days_minimos= datos_sin_atipicos[(datos_sin_atipicos['days_listed'] == 0)]\n",
    "days_minimos_median= days_minimos[['price_sin_atipicos','años_vehiculo_sin_atipicos','odometer_sin_atipicos',\n",
    "                                   'cylinders_sin_atipicos','condition_sin_atipicos']]\n",
    "days_minimos_median.median()\n"
   ]
  },
  {
   "cell_type": "code",
   "execution_count": 44,
   "metadata": {},
   "outputs": [
    {
     "name": "stdout",
     "output_type": "stream",
     "text": [
      "El limite superior de la columna days_listed es: 104.0\n"
     ]
    }
   ],
   "source": [
    "#determinando un límite superior\n",
    "\n",
    "resultados_days_listed= datos['days_listed'].describe()\n",
    "iqr_days_listed = resultados_days_listed['75%'] - resultados_days_listed['25%']\n",
    "superior_days_listed= resultados_days_listed['75%'] + (1.5*iqr_days_listed)\n",
    "print((f'El limite superior de la columna days_listed es: {superior_days_listed}'))\n"
   ]
  },
  {
   "cell_type": "code",
   "execution_count": 45,
   "metadata": {},
   "outputs": [
    {
     "data": {
      "text/plain": [
       "price_sin_atipicos              8995.0\n",
       "años_vehiculo_sin_atipicos         9.0\n",
       "odometer_sin_atipicos         120000.0\n",
       "cylinders_sin_atipicos             6.0\n",
       "condition_sin_atipicos             3.0\n",
       "dtype: float64"
      ]
     },
     "execution_count": 45,
     "metadata": {},
     "output_type": "execute_result"
    }
   ],
   "source": [
    "# cuando son publicados por un tiempo anormalmente largo\n",
    "\n",
    "days_maximo= datos_sin_atipicos[(datos_sin_atipicos['days_listed'] >= 104)]\n",
    "days_maximo_median= days_maximo[['price_sin_atipicos','años_vehiculo_sin_atipicos','odometer_sin_atipicos',\n",
    "                                   'cylinders_sin_atipicos','condition_sin_atipicos']]\n",
    "days_maximo_median.median()"
   ]
  },
  {
   "cell_type": "markdown",
   "metadata": {},
   "source": [
    "Se estudió el periodo de colocación de los anuncios y se pudo determinar que la media de la variable 'days_listed' es de 39.563914 días mientras que la mediana es de 33.000000 días tenemos una diferencia considerable debido a que el conjunto de datos tiene algunos valores atípicos bastante altos. En lineas generales podemos concluir que el periodo de publicación habitual es entre los 30 y 40 días. \n",
    "\n",
    "También tenemos algunos casos que se estudiaron mas de cerca, como aquellos en los que el periodo de publicación fue muy rápido ya que el anuncio se dió de  baja el mismo día, para esto se calculó la mediana relacionada con las otras variables para determinar cuando se eliminaron rápidamente y se obtuvo que para precio la mediana es de 8900, vehículos con  9 años, 102466 en millaje, 6 cilindros y con la condición Excelente. \n",
    "\n",
    "Para determinar aquellos anuncios donde el tiempo de publicación fue anormalmente largo se calculó el límite superior que dió como resultado 104 por lo que se segmentó el conjunto de datos para los mayores o iguales a 104, luego se calculó la mediana relacionada con las otras variables y se obtuvo que para precio la mediana es de 8200, vehículos con 8 años, 105000 en millaje, 6 cilindros y con la condición Excelente.    \n",
    "\n"
   ]
  },
  {
   "cell_type": "markdown",
   "metadata": {},
   "source": [
    "## Precio promedio por cada tipo de vehículo <a id='precio'></a>"
   ]
  },
  {
   "cell_type": "code",
   "execution_count": 46,
   "metadata": {},
   "outputs": [
    {
     "data": {
      "text/html": [
       "<div>\n",
       "<style scoped>\n",
       "    .dataframe tbody tr th:only-of-type {\n",
       "        vertical-align: middle;\n",
       "    }\n",
       "\n",
       "    .dataframe tbody tr th {\n",
       "        vertical-align: top;\n",
       "    }\n",
       "\n",
       "    .dataframe thead tr th {\n",
       "        text-align: left;\n",
       "    }\n",
       "\n",
       "    .dataframe thead tr:last-of-type th {\n",
       "        text-align: right;\n",
       "    }\n",
       "</style>\n",
       "<table border=\"1\" class=\"dataframe\">\n",
       "  <thead>\n",
       "    <tr>\n",
       "      <th></th>\n",
       "      <th>mean</th>\n",
       "      <th>count</th>\n",
       "    </tr>\n",
       "    <tr>\n",
       "      <th></th>\n",
       "      <th>price_sin_atipicos</th>\n",
       "      <th>price_sin_atipicos</th>\n",
       "    </tr>\n",
       "    <tr>\n",
       "      <th>type</th>\n",
       "      <th></th>\n",
       "      <th></th>\n",
       "    </tr>\n",
       "  </thead>\n",
       "  <tbody>\n",
       "    <tr>\n",
       "      <th>SUV</th>\n",
       "      <td>10433.665490</td>\n",
       "      <td>11895</td>\n",
       "    </tr>\n",
       "    <tr>\n",
       "      <th>bus</th>\n",
       "      <td>18107.428571</td>\n",
       "      <td>21</td>\n",
       "    </tr>\n",
       "    <tr>\n",
       "      <th>convertible</th>\n",
       "      <td>13050.707965</td>\n",
       "      <td>339</td>\n",
       "    </tr>\n",
       "    <tr>\n",
       "      <th>coupe</th>\n",
       "      <td>13500.713788</td>\n",
       "      <td>2009</td>\n",
       "    </tr>\n",
       "    <tr>\n",
       "      <th>hatchback</th>\n",
       "      <td>6823.848303</td>\n",
       "      <td>1002</td>\n",
       "    </tr>\n",
       "    <tr>\n",
       "      <th>mini-van</th>\n",
       "      <td>8034.483815</td>\n",
       "      <td>1143</td>\n",
       "    </tr>\n",
       "    <tr>\n",
       "      <th>offroad</th>\n",
       "      <td>14344.049451</td>\n",
       "      <td>182</td>\n",
       "    </tr>\n",
       "    <tr>\n",
       "      <th>other</th>\n",
       "      <td>10542.137339</td>\n",
       "      <td>233</td>\n",
       "    </tr>\n",
       "    <tr>\n",
       "      <th>pickup</th>\n",
       "      <td>15052.618843</td>\n",
       "      <td>6294</td>\n",
       "    </tr>\n",
       "    <tr>\n",
       "      <th>sedan</th>\n",
       "      <td>6962.386941</td>\n",
       "      <td>11976</td>\n",
       "    </tr>\n",
       "    <tr>\n",
       "      <th>truck</th>\n",
       "      <td>15139.148679</td>\n",
       "      <td>11091</td>\n",
       "    </tr>\n",
       "    <tr>\n",
       "      <th>van</th>\n",
       "      <td>8844.955250</td>\n",
       "      <td>581</td>\n",
       "    </tr>\n",
       "    <tr>\n",
       "      <th>wagon</th>\n",
       "      <td>8975.517928</td>\n",
       "      <td>1506</td>\n",
       "    </tr>\n",
       "  </tbody>\n",
       "</table>\n",
       "</div>"
      ],
      "text/plain": [
       "                          mean              count\n",
       "            price_sin_atipicos price_sin_atipicos\n",
       "type                                             \n",
       "SUV               10433.665490              11895\n",
       "bus               18107.428571                 21\n",
       "convertible       13050.707965                339\n",
       "coupe             13500.713788               2009\n",
       "hatchback          6823.848303               1002\n",
       "mini-van           8034.483815               1143\n",
       "offroad           14344.049451                182\n",
       "other             10542.137339                233\n",
       "pickup            15052.618843               6294\n",
       "sedan              6962.386941              11976\n",
       "truck             15139.148679              11091\n",
       "van                8844.955250                581\n",
       "wagon              8975.517928               1506"
      ]
     },
     "execution_count": 46,
     "metadata": {},
     "output_type": "execute_result"
    }
   ],
   "source": [
    "datos_sin_atipicos.pivot_table(index='type',values='price_sin_atipicos',aggfunc=['mean','count'])"
   ]
  },
  {
   "cell_type": "code",
   "execution_count": 47,
   "metadata": {},
   "outputs": [
    {
     "data": {
      "image/png": "[encoded data removed]",
      "text/plain": [
       "<Figure size 360x216 with 1 Axes>"
      ]
     },
     "metadata": {
      "needs_background": "light"
     },
     "output_type": "display_data"
    }
   ],
   "source": [
    "cant_tipo= datos_sin_atipicos[(datos_sin_atipicos['type'] == 'sedan') | (datos_sin_atipicos['type'] == 'SUV')]\n",
    "grafica_type= cant_tipo['type'].value_counts()\n",
    "grafica_type.plot(kind='bar',title= 'Tipo de auto y Cant.de anuncios',grid=True,figsize=(5,3))\n",
    "plt.show()"
   ]
  },
  {
   "cell_type": "code",
   "execution_count": 48,
   "metadata": {},
   "outputs": [
    {
     "data": {
      "text/plain": [
       "sedan    11976\n",
       "SUV      11895\n",
       "Name: type, dtype: int64"
      ]
     },
     "execution_count": 48,
     "metadata": {},
     "output_type": "execute_result"
    }
   ],
   "source": [
    "grafica_type.head()\n"
   ]
  },
  {
   "cell_type": "markdown",
   "metadata": {},
   "source": [
    "La mayor cantidad de anuncios es de los autos del tipo Sedán con 10021 seguido por SUV (vehículos todo terreno) con 9977 en cuanto a los precios el promedio es de 6979.877258 para los Sedán y 10424.409041 para los del tipo SUV."
   ]
  },
  {
   "cell_type": "markdown",
   "metadata": {},
   "source": [
    "## Factores de precio <a id='factores'></a>"
   ]
  },
  {
   "cell_type": "code",
   "execution_count": 49,
   "metadata": {},
   "outputs": [
    {
     "data": {
      "text/html": [
       "<div>\n",
       "<style scoped>\n",
       "    .dataframe tbody tr th:only-of-type {\n",
       "        vertical-align: middle;\n",
       "    }\n",
       "\n",
       "    .dataframe tbody tr th {\n",
       "        vertical-align: top;\n",
       "    }\n",
       "\n",
       "    .dataframe thead th {\n",
       "        text-align: right;\n",
       "    }\n",
       "</style>\n",
       "<table border=\"1\" class=\"dataframe\">\n",
       "  <thead>\n",
       "    <tr style=\"text-align: right;\">\n",
       "      <th></th>\n",
       "      <th>price_sin_atipicos</th>\n",
       "      <th>model_year</th>\n",
       "      <th>condition_sin_atipicos</th>\n",
       "      <th>cylinders_sin_atipicos</th>\n",
       "      <th>odometer_sin_atipicos</th>\n",
       "      <th>is_4wd</th>\n",
       "      <th>days_listed</th>\n",
       "      <th>day</th>\n",
       "      <th>month</th>\n",
       "      <th>year_publicacion</th>\n",
       "      <th>años_vehiculo_sin_atipicos</th>\n",
       "      <th>promedio_odometer</th>\n",
       "    </tr>\n",
       "  </thead>\n",
       "  <tbody>\n",
       "    <tr>\n",
       "      <th>price_sin_atipicos</th>\n",
       "      <td>1.000000</td>\n",
       "      <td>0.513117</td>\n",
       "      <td>0.184900</td>\n",
       "      <td>0.314738</td>\n",
       "      <td>-0.440354</td>\n",
       "      <td>0.332242</td>\n",
       "      <td>-0.000626</td>\n",
       "      <td>-0.001512</td>\n",
       "      <td>-0.009550</td>\n",
       "      <td>0.007799</td>\n",
       "      <td>-0.511089</td>\n",
       "      <td>0.173561</td>\n",
       "    </tr>\n",
       "    <tr>\n",
       "      <th>model_year</th>\n",
       "      <td>0.513117</td>\n",
       "      <td>1.000000</td>\n",
       "      <td>0.267533</td>\n",
       "      <td>-0.148222</td>\n",
       "      <td>-0.603852</td>\n",
       "      <td>-0.017635</td>\n",
       "      <td>-0.002275</td>\n",
       "      <td>0.001531</td>\n",
       "      <td>-0.019883</td>\n",
       "      <td>0.018628</td>\n",
       "      <td>-0.995732</td>\n",
       "      <td>0.479399</td>\n",
       "    </tr>\n",
       "    <tr>\n",
       "      <th>condition_sin_atipicos</th>\n",
       "      <td>0.184900</td>\n",
       "      <td>0.267533</td>\n",
       "      <td>1.000000</td>\n",
       "      <td>-0.076562</td>\n",
       "      <td>-0.266255</td>\n",
       "      <td>0.001743</td>\n",
       "      <td>0.001345</td>\n",
       "      <td>-0.012452</td>\n",
       "      <td>-0.004569</td>\n",
       "      <td>0.005662</td>\n",
       "      <td>-0.266328</td>\n",
       "      <td>0.043515</td>\n",
       "    </tr>\n",
       "    <tr>\n",
       "      <th>cylinders_sin_atipicos</th>\n",
       "      <td>0.314738</td>\n",
       "      <td>-0.148222</td>\n",
       "      <td>-0.076562</td>\n",
       "      <td>1.000000</td>\n",
       "      <td>0.120075</td>\n",
       "      <td>0.418026</td>\n",
       "      <td>0.002374</td>\n",
       "      <td>-0.004505</td>\n",
       "      <td>0.001235</td>\n",
       "      <td>-0.001210</td>\n",
       "      <td>0.147733</td>\n",
       "      <td>-0.032458</td>\n",
       "    </tr>\n",
       "    <tr>\n",
       "      <th>odometer_sin_atipicos</th>\n",
       "      <td>-0.440354</td>\n",
       "      <td>-0.603852</td>\n",
       "      <td>-0.266255</td>\n",
       "      <td>0.120075</td>\n",
       "      <td>1.000000</td>\n",
       "      <td>0.056405</td>\n",
       "      <td>0.004160</td>\n",
       "      <td>-0.002613</td>\n",
       "      <td>0.014747</td>\n",
       "      <td>-0.010327</td>\n",
       "      <td>0.601359</td>\n",
       "      <td>0.188217</td>\n",
       "    </tr>\n",
       "    <tr>\n",
       "      <th>is_4wd</th>\n",
       "      <td>0.332242</td>\n",
       "      <td>-0.017635</td>\n",
       "      <td>0.001743</td>\n",
       "      <td>0.418026</td>\n",
       "      <td>0.056405</td>\n",
       "      <td>1.000000</td>\n",
       "      <td>0.003032</td>\n",
       "      <td>-0.001723</td>\n",
       "      <td>0.003383</td>\n",
       "      <td>-0.002267</td>\n",
       "      <td>0.017381</td>\n",
       "      <td>0.041356</td>\n",
       "    </tr>\n",
       "    <tr>\n",
       "      <th>days_listed</th>\n",
       "      <td>-0.000626</td>\n",
       "      <td>-0.002275</td>\n",
       "      <td>0.001345</td>\n",
       "      <td>0.002374</td>\n",
       "      <td>0.004160</td>\n",
       "      <td>0.003032</td>\n",
       "      <td>1.000000</td>\n",
       "      <td>-0.000611</td>\n",
       "      <td>-0.010757</td>\n",
       "      <td>0.010826</td>\n",
       "      <td>0.003269</td>\n",
       "      <td>-0.004372</td>\n",
       "    </tr>\n",
       "    <tr>\n",
       "      <th>day</th>\n",
       "      <td>-0.001512</td>\n",
       "      <td>0.001531</td>\n",
       "      <td>-0.012452</td>\n",
       "      <td>-0.004505</td>\n",
       "      <td>-0.002613</td>\n",
       "      <td>-0.001723</td>\n",
       "      <td>-0.000611</td>\n",
       "      <td>1.000000</td>\n",
       "      <td>0.033341</td>\n",
       "      <td>-0.062288</td>\n",
       "      <td>-0.007277</td>\n",
       "      <td>0.009374</td>\n",
       "    </tr>\n",
       "    <tr>\n",
       "      <th>month</th>\n",
       "      <td>-0.009550</td>\n",
       "      <td>-0.019883</td>\n",
       "      <td>-0.004569</td>\n",
       "      <td>0.001235</td>\n",
       "      <td>0.014747</td>\n",
       "      <td>0.003383</td>\n",
       "      <td>-0.010757</td>\n",
       "      <td>0.033341</td>\n",
       "      <td>1.000000</td>\n",
       "      <td>-0.817523</td>\n",
       "      <td>-0.055633</td>\n",
       "      <td>0.112918</td>\n",
       "    </tr>\n",
       "    <tr>\n",
       "      <th>year_publicacion</th>\n",
       "      <td>0.007799</td>\n",
       "      <td>0.018628</td>\n",
       "      <td>0.005662</td>\n",
       "      <td>-0.001210</td>\n",
       "      <td>-0.010327</td>\n",
       "      <td>-0.002267</td>\n",
       "      <td>0.010826</td>\n",
       "      <td>-0.062288</td>\n",
       "      <td>-0.817523</td>\n",
       "      <td>1.000000</td>\n",
       "      <td>0.073729</td>\n",
       "      <td>-0.135182</td>\n",
       "    </tr>\n",
       "    <tr>\n",
       "      <th>años_vehiculo_sin_atipicos</th>\n",
       "      <td>-0.511089</td>\n",
       "      <td>-0.995732</td>\n",
       "      <td>-0.266328</td>\n",
       "      <td>0.147733</td>\n",
       "      <td>0.601359</td>\n",
       "      <td>0.017381</td>\n",
       "      <td>0.003269</td>\n",
       "      <td>-0.007277</td>\n",
       "      <td>-0.055633</td>\n",
       "      <td>0.073729</td>\n",
       "      <td>1.000000</td>\n",
       "      <td>-0.490656</td>\n",
       "    </tr>\n",
       "    <tr>\n",
       "      <th>promedio_odometer</th>\n",
       "      <td>0.173561</td>\n",
       "      <td>0.479399</td>\n",
       "      <td>0.043515</td>\n",
       "      <td>-0.032458</td>\n",
       "      <td>0.188217</td>\n",
       "      <td>0.041356</td>\n",
       "      <td>-0.004372</td>\n",
       "      <td>0.009374</td>\n",
       "      <td>0.112918</td>\n",
       "      <td>-0.135182</td>\n",
       "      <td>-0.490656</td>\n",
       "      <td>1.000000</td>\n",
       "    </tr>\n",
       "  </tbody>\n",
       "</table>\n",
       "</div>"
      ],
      "text/plain": [
       "                            price_sin_atipicos  model_year  \\\n",
       "price_sin_atipicos                    1.000000    0.513117   \n",
       "model_year                            0.513117    1.000000   \n",
       "condition_sin_atipicos                0.184900    0.267533   \n",
       "cylinders_sin_atipicos                0.314738   -0.148222   \n",
       "odometer_sin_atipicos                -0.440354   -0.603852   \n",
       "is_4wd                                0.332242   -0.017635   \n",
       "days_listed                          -0.000626   -0.002275   \n",
       "day                                  -0.001512    0.001531   \n",
       "month                                -0.009550   -0.019883   \n",
       "year_publicacion                      0.007799    0.018628   \n",
       "años_vehiculo_sin_atipicos           -0.511089   -0.995732   \n",
       "promedio_odometer                     0.173561    0.479399   \n",
       "\n",
       "                            condition_sin_atipicos  cylinders_sin_atipicos  \\\n",
       "price_sin_atipicos                        0.184900                0.314738   \n",
       "model_year                                0.267533               -0.148222   \n",
       "condition_sin_atipicos                    1.000000               -0.076562   \n",
       "cylinders_sin_atipicos                   -0.076562                1.000000   \n",
       "odometer_sin_atipicos                    -0.266255                0.120075   \n",
       "is_4wd                                    0.001743                0.418026   \n",
       "days_listed                               0.001345                0.002374   \n",
       "day                                      -0.012452               -0.004505   \n",
       "month                                    -0.004569                0.001235   \n",
       "year_publicacion                          0.005662               -0.001210   \n",
       "años_vehiculo_sin_atipicos               -0.266328                0.147733   \n",
       "promedio_odometer                         0.043515               -0.032458   \n",
       "\n",
       "                            odometer_sin_atipicos    is_4wd  days_listed  \\\n",
       "price_sin_atipicos                      -0.440354  0.332242    -0.000626   \n",
       "model_year                              -0.603852 -0.017635    -0.002275   \n",
       "condition_sin_atipicos                  -0.266255  0.001743     0.001345   \n",
       "cylinders_sin_atipicos                   0.120075  0.418026     0.002374   \n",
       "odometer_sin_atipicos                    1.000000  0.056405     0.004160   \n",
       "is_4wd                                   0.056405  1.000000     0.003032   \n",
       "days_listed                              0.004160  0.003032     1.000000   \n",
       "day                                     -0.002613 -0.001723    -0.000611   \n",
       "month                                    0.014747  0.003383    -0.010757   \n",
       "year_publicacion                        -0.010327 -0.002267     0.010826   \n",
       "años_vehiculo_sin_atipicos               0.601359  0.017381     0.003269   \n",
       "promedio_odometer                        0.188217  0.041356    -0.004372   \n",
       "\n",
       "                                 day     month  year_publicacion  \\\n",
       "price_sin_atipicos         -0.001512 -0.009550          0.007799   \n",
       "model_year                  0.001531 -0.019883          0.018628   \n",
       "condition_sin_atipicos     -0.012452 -0.004569          0.005662   \n",
       "cylinders_sin_atipicos     -0.004505  0.001235         -0.001210   \n",
       "odometer_sin_atipicos      -0.002613  0.014747         -0.010327   \n",
       "is_4wd                     -0.001723  0.003383         -0.002267   \n",
       "days_listed                -0.000611 -0.010757          0.010826   \n",
       "day                         1.000000  0.033341         -0.062288   \n",
       "month                       0.033341  1.000000         -0.817523   \n",
       "year_publicacion           -0.062288 -0.817523          1.000000   \n",
       "años_vehiculo_sin_atipicos -0.007277 -0.055633          0.073729   \n",
       "promedio_odometer           0.009374  0.112918         -0.135182   \n",
       "\n",
       "                            años_vehiculo_sin_atipicos  promedio_odometer  \n",
       "price_sin_atipicos                           -0.511089           0.173561  \n",
       "model_year                                   -0.995732           0.479399  \n",
       "condition_sin_atipicos                       -0.266328           0.043515  \n",
       "cylinders_sin_atipicos                        0.147733          -0.032458  \n",
       "odometer_sin_atipicos                         0.601359           0.188217  \n",
       "is_4wd                                        0.017381           0.041356  \n",
       "days_listed                                   0.003269          -0.004372  \n",
       "day                                          -0.007277           0.009374  \n",
       "month                                        -0.055633           0.112918  \n",
       "year_publicacion                              0.073729          -0.135182  \n",
       "años_vehiculo_sin_atipicos                    1.000000          -0.490656  \n",
       "promedio_odometer                            -0.490656           1.000000  "
      ]
     },
     "execution_count": 49,
     "metadata": {},
     "output_type": "execute_result"
    }
   ],
   "source": [
    "# Matriz de correlación\n",
    "datos_sin_atipicos.corr()"
   ]
  },
  {
   "cell_type": "code",
   "execution_count": 50,
   "metadata": {},
   "outputs": [
    {
     "data": {
      "text/plain": [
       "<AxesSubplot:xlabel='price_sin_atipicos', ylabel='años_vehiculo_sin_atipicos'>"
      ]
     },
     "execution_count": 50,
     "metadata": {},
     "output_type": "execute_result"
    },
    {
     "data": {
      "image/png": "[encoded data removed]",
      "text/plain": [
       "<Figure size 576x432 with 2 Axes>"
      ]
     },
     "metadata": {
      "needs_background": "light"
     },
     "output_type": "display_data"
    }
   ],
   "source": [
    "# Correlación entre price y años del vehículo\n",
    "datos_sin_atipicos.plot(x='price_sin_atipicos',y='años_vehiculo_sin_atipicos',kind='hexbin',grid=True,\n",
    "                        gridsize=20,figsize=(8,6),sharex=False)"
   ]
  },
  {
   "cell_type": "markdown",
   "metadata": {},
   "source": [
    "Tenemos una correlación débilmente negativa con un valor de -0.53 también lo podemos observar en la gráfica donde el incremento en x se relaciona con un decrecimiento en y."
   ]
  },
  {
   "cell_type": "code",
   "execution_count": 51,
   "metadata": {},
   "outputs": [
    {
     "data": {
      "text/plain": [
       "<AxesSubplot:xlabel='price_sin_atipicos', ylabel='odometer_sin_atipicos'>"
      ]
     },
     "execution_count": 51,
     "metadata": {},
     "output_type": "execute_result"
    },
    {
     "data": {
      "image/png": "[encoded data removed]",
      "text/plain": [
       "<Figure size 576x432 with 2 Axes>"
      ]
     },
     "metadata": {
      "needs_background": "light"
     },
     "output_type": "display_data"
    }
   ],
   "source": [
    "# Correlación entre price y millaje\n",
    "datos_sin_atipicos.plot(x='price_sin_atipicos',y='odometer_sin_atipicos',kind='hexbin',grid=True,\n",
    "                        gridsize=20,figsize=(8,6),sharex=False)"
   ]
  },
  {
   "cell_type": "markdown",
   "metadata": {},
   "source": [
    "Tenemos una correlación débilmente negativa con un valor de -0.43 también lo podemos observar en la gráfica donde el incremento en x se relaciona con un decrecimiento en y."
   ]
  },
  {
   "cell_type": "code",
   "execution_count": 52,
   "metadata": {},
   "outputs": [
    {
     "data": {
      "text/plain": [
       "<AxesSubplot:xlabel='price_sin_atipicos', ylabel='condition_sin_atipicos'>"
      ]
     },
     "execution_count": 52,
     "metadata": {},
     "output_type": "execute_result"
    },
    {
     "data": {
      "image/png": "[encoded data removed]",
      "text/plain": [
       "<Figure size 576x432 with 2 Axes>"
      ]
     },
     "metadata": {
      "needs_background": "light"
     },
     "output_type": "display_data"
    }
   ],
   "source": [
    "# Correlación entre price y condition\n",
    "datos_sin_atipicos.plot(x='price_sin_atipicos',y='condition_sin_atipicos',kind='hexbin',grid=True,\n",
    "                        gridsize=20,figsize=(8,6),sharex=False)"
   ]
  },
  {
   "cell_type": "markdown",
   "metadata": {},
   "source": [
    "Tenemos una correlación débilmente positiva con un valor de 0.19 también lo podemos observar en la gráfica donde el incremento en x se relaciona muy ligeramente con un crecimiento en y."
   ]
  },
  {
   "cell_type": "code",
   "execution_count": 53,
   "metadata": {},
   "outputs": [
    {
     "name": "stdout",
     "output_type": "stream",
     "text": [
      "automatic    44090\n",
      "manual        2436\n",
      "other         1746\n",
      "Name: transmission, dtype: int64\n"
     ]
    },
    {
     "data": {
      "image/png": "[encoded data removed]",
      "text/plain": [
       "<Figure size 432x288 with 1 Axes>"
      ]
     },
     "metadata": {
      "needs_background": "light"
     },
     "output_type": "display_data"
    }
   ],
   "source": [
    "# Correlación entre price y transmission\n",
    "print(datos_sin_atipicos['transmission'].value_counts())\n",
    "var='transmission'\n",
    "subconjunto= datos_sin_atipicos[['transmission','price_sin_atipicos']]\n",
    "grafico_transmission= sns.boxplot(x=var, y='price_sin_atipicos', data=subconjunto)"
   ]
  },
  {
   "cell_type": "markdown",
   "metadata": {},
   "source": [
    "En el diagrama de cajas y bigotes tenemos los tipos de transmiciones relacionadas con los precios de los vehículos. \n",
    "Para el tipo de transmisión automática el valor Q1 está ubicado en los 5000 mientras que el Q3 en los 16000 y una mediana ubicada en los 9000 y presenta valores atípicos mayores a 30000. \n",
    "Para el tipo de transmisión Manual Q1 se ubica en los 4000, Q3 en 13000 y la mediana en 7000 y presenta valores atípicos mayores a 27000.\n",
    "Para otros Q1 se ubica en 11000 Q3 en 24000 y la mediana en 22000 por lo que la mayoría de los datos se concentran en los valores más altos. \n",
    "        "
   ]
  },
  {
   "cell_type": "code",
   "execution_count": 54,
   "metadata": {},
   "outputs": [
    {
     "name": "stdout",
     "output_type": "stream",
     "text": [
      "white            9204\n",
      "No disponible    8692\n",
      "black            7177\n",
      "silver           6027\n",
      "grey             4806\n",
      "blue             4231\n",
      "red              4078\n",
      "green            1301\n",
      "brown            1133\n",
      "custom           1094\n",
      "yellow            226\n",
      "orange            213\n",
      "purple             90\n",
      "Name: paint_color, dtype: int64\n"
     ]
    },
    {
     "data": {
      "image/png": "[encoded data removed]",
      "text/plain": [
       "<Figure size 720x432 with 1 Axes>"
      ]
     },
     "metadata": {
      "needs_background": "light"
     },
     "output_type": "display_data"
    }
   ],
   "source": [
    "# Correlación entre price y paint_color\n",
    "print(datos_sin_atipicos['paint_color'].value_counts())\n",
    "var1='paint_color'\n",
    "subconjunto1= datos_sin_atipicos[['paint_color','price_sin_atipicos']]\n",
    "f, ax = plt.subplots(figsize=(10, 6))\n",
    "grafico_paint_color= sns.boxplot(x=var1, y='price_sin_atipicos', data=subconjunto1)\n"
   ]
  },
  {
   "cell_type": "markdown",
   "metadata": {},
   "source": [
    "Los vehículos con los colores más publicados son white y black cuyos valores son muy parecidos Q1 está cerca de los 6000,Q3 cerca de los 18000 y la mediana ligeramente por encima de los 10000 y no tienen valores atípicos. El color purple solo tiene 78 vahículos es el valor más bajo del conjunto de datos Q1 es de 3000, Q3 está en los 9000 y su mediana en 7000 tiene valores atípicos, algunos mucho mas altos que los otros llegan casi a los 30000. Los colores red, grey,silver, custom,blue, brown y green también tienen valores atípicos. "
   ]
  },
  {
   "cell_type": "markdown",
   "metadata": {},
   "source": [
    "## Conclusión general <a id='general'></a>"
   ]
  },
  {
   "cell_type": "markdown",
   "metadata": {},
   "source": [
    "En líneas generales el conjunto de datos tenía algunos valores problemáticos que debieron ser solventados, las columnas model_year, cylinders, odometer, paint_color tenían valores ausentes, pero el caso mas drámatico fue el de is_4wd con 25953 valores ausentes, por lo que a primera vista se puede determinar que los valores ausentes en la columna is_4wd tienen un patrón (MNAR), solo tiene 1 y NaN por lo que se puede intuir que el NaN corresponde a 0 y que estos vehículos no cuentan con tracción en las 4 ruedas por lo que se sustituyeron todos los NaN por 0, el resto de los valores ausentes también fueron solucionados.  \n",
    "\n",
    "Se corrigieron los tipos de datos de las variables model_year a int, date_posted a tipo datetime y la variable is_4wd a bool.\n",
    "\n",
    "Se agregaron algunas columnas day (día de la publicación), month (mes de la publicación), year_publicacion (año de la publicación) y años_vehiculo (años de uso del vehículo) para enriquecer los datos. \n",
    "\n",
    "Se reemplazaron los valores de condition por números enteros para así graficar los datos.\n",
    "\n",
    "Se segmentó el conjunto de datos para no incluir valores atípicos en las variables principales. \n",
    "\n",
    "**En base al estudio de los datos se puede concluir lo siguiente:**\n",
    "\n",
    "1- En la variable price la mayoría de datos se encuentran en los valores cercanos a los 5000 y luego a medida que aumenta el precio va bajando la cantidad de anuncios publicados.\n",
    "\n",
    "2- En la variable años_vehículo la mayoría de datos se encuentran en los valores cercanos a los 5 años y luego tenemos otro pico a los 11 años, a partir de ahí a medida que aumentan los años del vehículo van bajando la cantidad de anuncios publicados\n",
    "\n",
    "3-En la variable odometer la mayoría de datos se encuentran en los valores muy cercanos al 0 luego observamos una curba donde tenemos el próximo pico entre los 10000 y 15000, a partir de ahí a medida que aumenta el millaje van bajando la cantidad de anuncios publicados.\n",
    "\n",
    "4-En la variable cylinders la mayor cantidad de datos se encuentra en 8 cilindros y muy poca diferencia con 6 cilindros, mientras que en el gráfico sin valores atípicos el pico se encuentra en 6 cilindros seguido por 8 cilindros. En ambos gráficos 3, 5 y 10 tienen muy poca frecuencias.\n",
    "\n",
    "5-En la variable conditions el pico se encuentra en el número 3= Excelente, y los que tienen menos frecuencia son 0= para rescate y 5= nuevo.\n",
    "\n",
    "6- Se estudió el periodo de colocación de los anuncios y se pudo determinar que la media de la variable 'days_listed' es de 39.563914 días mientras que la mediana es de 33.000000 días, tenemos una diferencia considerable debido a que el conjunto de datos tiene algunos valores atípicos bastante altos.\n",
    "\n",
    "7-Se calculó la mediana de aquellos anuncios que fueron dados de baja el mismo día de la publicación  y se obtuvo que para precio la mediana es de 8900, vehículos con 9 años, 102466 en millaje, 6 cilindros y con la condición Excelente.\n",
    "\n",
    "8-Para determinar aquellos anuncios donde el tiempo de publicación fue anormalmente largo se calculó el límite superior que dió como resultado 104 por lo que se segmentó el conjunto de datos para los mayores o iguales a 104, luego se calculó la mediana relacionada con las otras variables y se obtuvo que para precio la mediana es de 8200, vehículos con 8 años, 105000 en millaje, 6 cilindros y con la condición Excelente.\n",
    "\n",
    "9- Los tipo de autos que cuentan con más publicaciones son los de tipo Sedan y SUV, en cuanto a los precios el promedio es de 6979.877258 para los Sedán y 10424.409041 para los del tipo SUV.\n",
    "\n",
    "10-Entre las variables price y años del vehículo tenemos una correlación débilmente negativa con un valor de -0.53 también lo podemos observar en la gráfica donde el incremento en x se relaciona con un decrecimiento en y.\n",
    "\n",
    "11-Entre  las variables price y millaje tenemos una correlación débilmente negativa con un valor de -0.32 también lo podemos observar en la gráfica donde el incremento en x se relaciona con un decrecimiento en y.\n",
    "\n",
    "12-Entre  las variables price y condition tenemos una correlación débilmente positiva con un valor de 0.19 también lo podemos observar en la gráfica donde el incremento en x se relaciona muy ligeramente con un crecimiento en y. \n",
    "\n",
    "13-Entre las variables price y transmission por ser una variable categórica se utilizó el diagrama de cajas y bigotes, para el tipo de transmisión automática el valor Q1 está ubicado en los 5000 mientras que el Q3 en los 16000 y una mediana ubicada en los 9000 y presenta valores atípicos mayores a 30000. Para el tipo de transmisión Manual Q1 se ubica en los 4000, Q3 en 13000 y la mediana en 7000 y presenta valores atípicos mayores a 27000. Para otros Q1 se ubica en 11000 Q3 en 24000 y la mediana en 22000 por lo que la mayoría de los datos se concentran en los valores más altos.\n",
    "\n",
    "14-Entre las variables price y paint_color por ser una variable categórica se utilizó el diagrama de cajas y bigotes, los vehículos con los colores más publicados son white y black cuyos valores son muy parecidos Q1 está cerca de los 6000,Q3 cerca de los 18000 y la mediana ligeramente por encima de los 10000 y no tienen valores atípicos. El color purple solo tiene 78 vahículos es el valor más bajo del conjunto de datos Q1 es de 3000, Q3 está en los 9000 y su mediana en 7000 tiene valores atípicos, algunos mucho mas altos que los otros llegan casi a los 30000. Los colores red, grey,silver, custom,blue, brown y green también tienen valores atípicos.\n",
    "\n"
   ]
  }
 ],
 "metadata": {
  "ExecuteTimeLog": [
   {
    "duration": 828,
    "start_time": "2021-11-16T09:21:11.304Z"
   },
   {
    "duration": 893,
    "start_time": "2021-11-16T09:21:17.728Z"
   },
   {
    "duration": 1150,
    "start_time": "2021-11-16T09:21:29.568Z"
   },
   {
    "duration": 3,
    "start_time": "2021-11-16T09:24:14.495Z"
   },
   {
    "duration": 120,
    "start_time": "2021-11-16T09:24:46.630Z"
   },
   {
    "duration": 3,
    "start_time": "2021-11-16T09:28:27.882Z"
   },
   {
    "duration": 4,
    "start_time": "2021-11-16T09:29:54.281Z"
   },
   {
    "duration": 3,
    "start_time": "2021-11-16T09:30:45.936Z"
   },
   {
    "duration": 4,
    "start_time": "2021-11-16T09:31:06.300Z"
   },
   {
    "duration": 113,
    "start_time": "2021-11-16T09:31:37.208Z"
   },
   {
    "duration": 143,
    "start_time": "2021-11-16T09:31:48.656Z"
   },
   {
    "duration": 98,
    "start_time": "2021-11-16T09:31:55.678Z"
   },
   {
    "duration": 3,
    "start_time": "2021-11-16T09:32:08.535Z"
   },
   {
    "duration": 111,
    "start_time": "2021-11-16T09:32:10.120Z"
   },
   {
    "duration": 3,
    "start_time": "2021-11-16T09:32:15.732Z"
   },
   {
    "duration": 4,
    "start_time": "2021-11-16T09:32:29.423Z"
   },
   {
    "duration": 3,
    "start_time": "2021-11-16T10:03:03.074Z"
   },
   {
    "duration": 3,
    "start_time": "2021-11-16T10:10:01.288Z"
   },
   {
    "duration": 3,
    "start_time": "2021-11-16T10:10:46.923Z"
   },
   {
    "duration": 121,
    "start_time": "2021-11-16T10:37:46.494Z"
   },
   {
    "duration": 125,
    "start_time": "2021-11-16T10:38:20.632Z"
   },
   {
    "duration": 112,
    "start_time": "2021-11-16T10:46:53.001Z"
   },
   {
    "duration": 110,
    "start_time": "2021-11-16T10:48:25.775Z"
   },
   {
    "duration": 3,
    "start_time": "2021-11-16T10:50:18.720Z"
   },
   {
    "duration": 4,
    "start_time": "2021-11-16T10:50:37.649Z"
   },
   {
    "duration": 2,
    "start_time": "2021-11-16T10:50:51.884Z"
   },
   {
    "duration": 3,
    "start_time": "2021-11-16T10:51:56.237Z"
   },
   {
    "duration": 101,
    "start_time": "2021-11-16T10:53:13.791Z"
   },
   {
    "duration": 3,
    "start_time": "2021-11-16T10:55:59.186Z"
   },
   {
    "duration": 3,
    "start_time": "2021-11-16T10:56:10.751Z"
   },
   {
    "duration": 3,
    "start_time": "2021-11-16T10:56:49.038Z"
   },
   {
    "duration": 3,
    "start_time": "2021-11-16T10:56:49.174Z"
   },
   {
    "duration": 4,
    "start_time": "2021-11-16T10:56:49.414Z"
   },
   {
    "duration": 3,
    "start_time": "2021-11-16T10:56:49.680Z"
   },
   {
    "duration": 3,
    "start_time": "2021-11-16T10:56:50.370Z"
   },
   {
    "duration": 114,
    "start_time": "2021-11-16T10:59:34.518Z"
   },
   {
    "duration": 3,
    "start_time": "2021-11-16T11:01:41.201Z"
   },
   {
    "duration": 116,
    "start_time": "2021-11-16T11:01:48.754Z"
   },
   {
    "duration": 3,
    "start_time": "2021-11-16T11:02:16.685Z"
   },
   {
    "duration": 3,
    "start_time": "2021-11-16T11:02:19.479Z"
   },
   {
    "duration": 3,
    "start_time": "2021-11-16T11:02:47.067Z"
   },
   {
    "duration": 3,
    "start_time": "2021-11-16T11:02:49.353Z"
   },
   {
    "duration": 3,
    "start_time": "2021-11-16T11:03:07.835Z"
   },
   {
    "duration": 3,
    "start_time": "2021-11-16T11:03:07.953Z"
   },
   {
    "duration": 112,
    "start_time": "2021-11-16T11:07:52.072Z"
   },
   {
    "duration": 187,
    "start_time": "2021-11-16T11:09:23.468Z"
   },
   {
    "duration": 4,
    "start_time": "2021-11-16T11:10:01.455Z"
   },
   {
    "duration": 3,
    "start_time": "2021-11-16T11:10:05.069Z"
   },
   {
    "duration": 4,
    "start_time": "2021-11-16T11:10:13.376Z"
   },
   {
    "duration": 3,
    "start_time": "2021-11-16T11:10:14.434Z"
   },
   {
    "duration": 3,
    "start_time": "2021-11-16T11:10:22.853Z"
   },
   {
    "duration": 4,
    "start_time": "2021-11-16T11:27:29.279Z"
   },
   {
    "duration": 4,
    "start_time": "2021-11-16T11:29:08.919Z"
   },
   {
    "duration": 118,
    "start_time": "2021-11-16T11:29:46.703Z"
   },
   {
    "duration": 437,
    "start_time": "2021-11-16T11:36:02.181Z"
   },
   {
    "duration": 157,
    "start_time": "2021-11-16T11:36:14.388Z"
   },
   {
    "duration": 207,
    "start_time": "2021-11-16T11:47:15.898Z"
   },
   {
    "duration": 3,
    "start_time": "2021-11-16T11:53:52.092Z"
   },
   {
    "duration": 3,
    "start_time": "2021-11-16T11:53:52.236Z"
   },
   {
    "duration": 3,
    "start_time": "2021-11-16T11:59:12.005Z"
   },
   {
    "duration": 112,
    "start_time": "2021-11-16T12:00:33.446Z"
   },
   {
    "duration": 3,
    "start_time": "2021-11-16T12:02:14.453Z"
   },
   {
    "duration": 3,
    "start_time": "2021-11-16T12:02:39.512Z"
   },
   {
    "duration": 106,
    "start_time": "2021-11-16T12:03:03.460Z"
   }
  ],
  "kernelspec": {
   "display_name": "Python 3 (ipykernel)",
   "language": "python",
   "name": "python3"
  },
  "language_info": {
   "codemirror_mode": {
    "name": "ipython",
    "version": 3
   },
   "file_extension": ".py",
   "mimetype": "text/x-python",
   "name": "python",
   "nbconvert_exporter": "python",
   "pygments_lexer": "ipython3",
   "version": "3.9.13"
  },
  "toc": {
   "base_numbering": 1,
   "nav_menu": {},
   "number_sections": true,
   "sideBar": true,
   "skip_h1_title": false,
   "title_cell": "Table of Contents",
   "title_sidebar": "Contents",
   "toc_cell": false,
   "toc_position": {
    "height": "calc(100% - 180px)",
    "left": "10px",
    "top": "150px",
    "width": "165px"
   },
   "toc_section_display": true,
   "toc_window_display": false
  }
 },
 "nbformat": 4,
 "nbformat_minor": 2
}
